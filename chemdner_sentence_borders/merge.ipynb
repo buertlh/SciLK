{
 "cells": [
  {
   "cell_type": "markdown",
   "metadata": {},
   "source": [
    "#### Read data and test for sentence borders exceeding length == 1"
   ]
  },
  {
   "cell_type": "code",
   "execution_count": 9,
   "metadata": {},
   "outputs": [],
   "source": [
    "import json\n",
    "import glob\n",
    "from itertools import chain\n",
    "from fn import F\n",
    "\n",
    "\n",
    "def read_frames(fp) -> dict:\n",
    "    with open(fp) as buffer:\n",
    "        return json.loads(buffer.read())['frames']\n",
    "\n",
    "\n",
    "titles = (F(map, read_frames) >> chain.from_iterable >> list)(glob.glob('titles/*.json'))\n",
    "bodies = (F(map, read_frames) >> chain.from_iterable >> list)(glob.glob('bodies/*.json'))"
   ]
  },
  {
   "cell_type": "code",
   "execution_count": 19,
   "metadata": {},
   "outputs": [
    {
     "name": "stdout",
     "output_type": "stream",
     "text": [
      "0 3\n"
     ]
    }
   ],
   "source": [
    "def ismalformed(annotation):\n",
    "    start, end, _ = annotation\n",
    "    return end - start != 1\n",
    "\n",
    "\n",
    "def has_malformed(frame: dict) -> True:\n",
    "    return any(map(ismalformed, frame['anno']))\n",
    "\n",
    "\n",
    "titles_malformed_borders = (F(filter, has_malformed) >> list)(titles)\n",
    "bodies_malformed_borders = (F(filter, has_malformed) >> list)(bodies)\n",
    "\n",
    "print(*map(len, [titles_malformed_borders, bodies_malformed_borders]))"
   ]
  },
  {
   "cell_type": "code",
   "execution_count": 23,
   "metadata": {},
   "outputs": [
    {
     "name": "stdout",
     "output_type": "stream",
     "text": [
      "[[': '], [': '], ['t ']]\n"
     ]
    }
   ],
   "source": [
    "# investigate malformed sentence borders in bodies_malformed_borders\n",
    "\n",
    "def extract_annotations(text, annotations):\n",
    "    return [text[start:stop] for start, stop, _ in annotations]\n",
    "\n",
    "malformed_borders = [\n",
    "    extract_annotations(frame['text'], filter(ismalformed, frame['anno']))\n",
    "    for frame in bodies_malformed_borders\n",
    "]\n",
    "\n",
    "print(malformed_sentences)"
   ]
  },
  {
   "cell_type": "markdown",
   "metadata": {},
   "source": [
    "Seems like, these hanging spaces are the only problem – we can live with that."
   ]
  },
  {
   "cell_type": "code",
   "execution_count": 43,
   "metadata": {},
   "outputs": [],
   "source": [
    "from typing import List, Tuple, Iterable\n",
    "from functools import reduce\n",
    "from itertools import takewhile, dropwhile\n",
    "import re\n",
    "\n",
    "WS = re.compile('\\s')\n",
    "\n",
    "def borders(text, annotations) -> List[Tuple[int, int]]:\n",
    "    def spacecount(characters: Iterable[str]):\n",
    "        return sum(map(bool, takewhile(lambda x: WS.match(x), characters)))\n",
    "       \n",
    "    def accumulate(acc: List, breakpoint):\n",
    "        start = acc[-1][1] if acc else 0\n",
    "        sentence = text[start:breakpoint]\n",
    "        interval = (start + spacecount(sentence), \n",
    "                   start + len(sentence) - spacecount(reversed(sentence)))\n",
    "        acc.append(interval)\n",
    "        return acc\n",
    "    \n",
    "    return reduce(accumulate, (end for _, end, _ in annotations), [])\n"
   ]
  },
  {
   "cell_type": "code",
   "execution_count": 52,
   "metadata": {},
   "outputs": [
    {
     "data": {
      "text/plain": [
       "['Abstract',\n",
       " '1. Upamostat (Mesupron®) is a new small molecule serine protease inhibitor.',\n",
       " 'The drug candidate was developed to inhibit the urokinase-type plasminogen activator (uPA) system, which plays a major role in tumor invasion and metastasis.',\n",
       " 'Upamostat is currently in clinical development as an anti-metastatic and non-cytotoxic agent against pancreatic and breast cancer.',\n",
       " '2. Upamostat is the orally available amidoxime- (i.e. hydroxyamidine-) prodrug of the pharmacologically active form, WX-UK1.',\n",
       " 'In this study, the reductive enzymatic activation of upamostat to its corresponding amidine WX-UK1 was analyzed.',\n",
       " '3. The recently discovered molybdenum enzyme \"mitochondrial Amidoxime Reducing Component\" (mARC) catalyses together with its electron transport proteins cytochrome b(5) and NADH cytochrome b(5) reductase the reduction of N-hydroxylated prodrugs.',\n",
       " 'In vitro biotransformation assays with porcine subcellular fractions and the reconstituted human enzymes demonstrate an mARC-dependent N-reduction of upamostat.']"
      ]
     },
     "execution_count": 52,
     "metadata": {},
     "output_type": "execute_result"
    }
   ],
   "source": [
    "# i = 2\n",
    "# sentences = borders(bodies_malformed_borders[i]['text'], bodies_malformed_borders[i]['anno'])\n",
    "# [bodies_malformed_borders[i]['text'][start:end] for start, end in sentences]\n"
   ]
  },
  {
   "cell_type": "code",
   "execution_count": 56,
   "metadata": {},
   "outputs": [],
   "source": [
    "title_borders = {\n",
    "    frame['id']: (borders(frame['text'], frame['anno'])) for frame in titles \n",
    "}\n",
    "body_borders = {\n",
    "    frame['id']: (borders(frame['text'], frame['anno'])) for frame in bodies \n",
    "}"
   ]
  },
  {
   "cell_type": "code",
   "execution_count": 57,
   "metadata": {},
   "outputs": [
    {
     "data": {
      "text/plain": [
       "1.0"
      ]
     },
     "execution_count": 57,
     "metadata": {},
     "output_type": "execute_result"
    }
   ],
   "source": [
    "len(title_borders.keys() & body_borders.keys()) / len(title_borders.keys() | body_borders.keys())"
   ]
  },
  {
   "cell_type": "code",
   "execution_count": 58,
   "metadata": {},
   "outputs": [],
   "source": [
    "merged = [\n",
    "    (id_, title_borders[id_], body_borders[id_]) for id_ in title_borders\n",
    "]"
   ]
  },
  {
   "cell_type": "code",
   "execution_count": 60,
   "metadata": {},
   "outputs": [],
   "source": [
    "with open('borders_all.tsv', 'w') as out:\n",
    "    for id_, title_borders, body_borders in merged:\n",
    "        for title in title_borders:\n",
    "            print(id_, 'T', '{}:{}'.format(*title), sep='\\t', file=out)\n",
    "        for body in body_borders:\n",
    "            print(id_, 'A', '{}:{}'.format(*body), sep='\\t', file=out)\n"
   ]
  }
 ],
 "metadata": {
  "kernelspec": {
   "display_name": "Python 3",
   "language": "python",
   "name": "python3"
  },
  "language_info": {
   "codemirror_mode": {
    "name": "ipython",
    "version": 3
   },
   "file_extension": ".py",
   "mimetype": "text/x-python",
   "name": "python",
   "nbconvert_exporter": "python",
   "pygments_lexer": "ipython3",
   "version": "3.6.3"
  }
 },
 "nbformat": 4,
 "nbformat_minor": 2
}
