{
 "cells": [
  {
   "cell_type": "markdown",
   "metadata": {},
   "source": [
    "### Load text from example corpus."
   ]
  },
  {
   "cell_type": "code",
   "execution_count": 1,
   "metadata": {},
   "outputs": [
    {
     "data": {
      "text/plain": [
       "'BACKGROUND: Rivaroxaban is currently used to prevent stroke in patients with atrial fibrillation. Measuring coagulation function may help clinicians to understand the effects of this drug and the associated risk of bleeding. METHODS AND RESULTS: Rivaroxaban was given to 136 patients with non-valvular atrial fibrillation. Mean age was 74.5+/-9.0 years (men: 63.2%) and mean CHADS2 score (+/-SD) was 1.8+/-1.2. Prothrombin times (PTs) and plasma soluble fibrin (SF) levels were examined in 84 out of '"
      ]
     },
     "execution_count": 1,
     "metadata": {},
     "output_type": "execute_result"
    }
   ],
   "source": [
    "from infgain.corpora import load_example_corpus\n",
    "\n",
    "raw_data = load_example_corpus()\n",
    "raw_data[:500]"
   ]
  },
  {
   "cell_type": "markdown",
   "metadata": {},
   "source": [
    "### Tokenize into sentences."
   ]
  },
  {
   "cell_type": "code",
   "execution_count": 2,
   "metadata": {
    "collapsed": true
   },
   "outputs": [],
   "source": [
    "from infgain.preprocessing import sent_tokenize\n",
    "\n",
    "sentences = sent_tokenize(raw_data)"
   ]
  },
  {
   "cell_type": "markdown",
   "metadata": {},
   "source": [
    "### Tokenize every sentence into words."
   ]
  },
  {
   "cell_type": "code",
   "execution_count": 3,
   "metadata": {
    "collapsed": true
   },
   "outputs": [],
   "source": [
    "from infgain.preprocessing import word_tokenize\n",
    "\n",
    "sentences_tokenized = list(map(lambda x: word_tokenize(x), sentences))"
   ]
  },
  {
   "cell_type": "markdown",
   "metadata": {},
   "source": [
    "### Make ngrams out of every sentence."
   ]
  },
  {
   "cell_type": "code",
   "execution_count": 4,
   "metadata": {
    "collapsed": true
   },
   "outputs": [],
   "source": [
    "from infgain.preprocessing import make_ngrams\n",
    "\n",
    "ngrams = list(map(lambda x: make_ngrams(x, 3), sentences_tokenized))"
   ]
  },
  {
   "cell_type": "markdown",
   "metadata": {},
   "source": [
    "### Remove ngrams containing stopwords."
   ]
  },
  {
   "cell_type": "code",
   "execution_count": 5,
   "metadata": {
    "collapsed": true
   },
   "outputs": [],
   "source": [
    "from infgain.preprocessing import remove_bad_ngrams\n",
    "\n",
    "ngrams = list(map(lambda x: remove_bad_ngrams(x), ngrams))"
   ]
  },
  {
   "cell_type": "code",
   "execution_count": 6,
   "metadata": {},
   "outputs": [
    {
     "data": {
      "text/plain": [
       "[[('background',),\n",
       "  ('rivaroxaban',),\n",
       "  ('currently',),\n",
       "  ('used',),\n",
       "  ('prevent',),\n",
       "  ('stroke',),\n",
       "  ('patients',),\n",
       "  ('atrial',),\n",
       "  ('fibrillation',),\n",
       "  ('background', 'rivaroxaban'),\n",
       "  ('currently', 'used'),\n",
       "  ('prevent', 'stroke'),\n",
       "  ('atrial', 'fibrillation')],\n",
       " [('measuring',),\n",
       "  ('coagulation',),\n",
       "  ('function',),\n",
       "  ('may',),\n",
       "  ('help',),\n",
       "  ('clinicians',),\n",
       "  ('understand',),\n",
       "  ('effects',),\n",
       "  ('drug',),\n",
       "  ('associated',),\n",
       "  ('risk',),\n",
       "  ('bleeding',),\n",
       "  ('measuring', 'coagulation'),\n",
       "  ('coagulation', 'function'),\n",
       "  ('function', 'may'),\n",
       "  ('may', 'help'),\n",
       "  ('help', 'clinicians'),\n",
       "  ('associated', 'risk'),\n",
       "  ('measuring', 'coagulation', 'function'),\n",
       "  ('coagulation', 'function', 'may'),\n",
       "  ('function', 'may', 'help'),\n",
       "  ('may', 'help', 'clinicians')]]"
      ]
     },
     "execution_count": 6,
     "metadata": {},
     "output_type": "execute_result"
    }
   ],
   "source": [
    "ngrams[:2]"
   ]
  },
  {
   "cell_type": "markdown",
   "metadata": {},
   "source": [
    "### Make dictionary out of ngrams."
   ]
  },
  {
   "cell_type": "code",
   "execution_count": 7,
   "metadata": {
    "collapsed": true
   },
   "outputs": [],
   "source": [
    "from infgain.preprocessing import make_dict\n",
    "\n",
    "dictionary, reversed_dictionary = make_dict(ngrams)"
   ]
  },
  {
   "cell_type": "markdown",
   "metadata": {},
   "source": [
    "### Replace OOV-words with UNK."
   ]
  },
  {
   "cell_type": "code",
   "execution_count": 8,
   "metadata": {
    "collapsed": true
   },
   "outputs": [],
   "source": [
    "from infgain.preprocessing import replace_unk_list\n",
    "\n",
    "sentences_unked = list(map(lambda x: replace_unk_list(x, dictionary), sentences_tokenized))\n",
    "sentences_unked = list(filter(lambda x: len(x) > 0, sentences_unked))"
   ]
  },
  {
   "cell_type": "markdown",
   "metadata": {},
   "source": [
    "### Make dictionaries of tuples -> token_id."
   ]
  },
  {
   "cell_type": "code",
   "execution_count": 9,
   "metadata": {
    "collapsed": true
   },
   "outputs": [],
   "source": [
    "from infgain.preprocessing import make_tupled_dicts\n",
    "\n",
    "dict_ngram_id_by_tuple, dict_tilda_id_by_tuple = make_tupled_dicts(dictionary)"
   ]
  },
  {
   "cell_type": "code",
   "execution_count": 10,
   "metadata": {},
   "outputs": [
    {
     "data": {
      "text/plain": [
       "(10, 21033)"
      ]
     },
     "execution_count": 10,
     "metadata": {},
     "output_type": "execute_result"
    }
   ],
   "source": [
    "from infgain.preprocessing import ngram_id, tilda_id\n",
    "\n",
    "# TODO: Rewrite more wisely (i forgot how to wrap correctly such functions)!\n",
    "def ngram_id_wrap(x):\n",
    "    return ngram_id(x, dict_ngram_id_by_tuple)\n",
    "\n",
    "def tilda_id_wrap(x):\n",
    "    return tilda_id(x, dict_tilda_id_by_tuple)\n",
    "\n",
    "ngram_id((3,4), dict_ngram_id_by_tuple), tilda_id((3,4), dict_tilda_id_by_tuple)"
   ]
  },
  {
   "cell_type": "code",
   "execution_count": 11,
   "metadata": {
    "scrolled": true
   },
   "outputs": [
    {
     "data": {
      "text/plain": [
       "('high~throughput', 'currently_used', 'currently', 'used')"
      ]
     },
     "execution_count": 11,
     "metadata": {},
     "output_type": "execute_result"
    }
   ],
   "source": [
    "reversed_dictionary[20510], reversed_dictionary[10], reversed_dictionary[3], reversed_dictionary[4]"
   ]
  },
  {
   "cell_type": "markdown",
   "metadata": {},
   "source": [
    "### Try to train word2gauss model."
   ]
  },
  {
   "cell_type": "code",
   "execution_count": 22,
   "metadata": {
    "collapsed": true
   },
   "outputs": [],
   "source": [
    "from word2gauss import GaussianEmbedding, iter_pairs\n",
    "from word2gauss.words import Vocabulary\n",
    "\n",
    "vocab_gauss = Vocabulary(dictionary)\n",
    "\n",
    "embed = GaussianEmbedding(len(dictionary),\n",
    "                          100,\n",
    "                          covariance_type='diagonal',\n",
    "                          energy_type='KL')"
   ]
  },
  {
   "cell_type": "code",
   "execution_count": 23,
   "metadata": {},
   "outputs": [],
   "source": [
    "sentences_unked = list(filter(lambda x: len(x.split()) > 1, sentences_unked))"
   ]
  },
  {
   "cell_type": "code",
   "execution_count": 24,
   "metadata": {},
   "outputs": [
    {
     "name": "stdout",
     "output_type": "stream",
     "text": [
      "CPU times: user 2min 34s, sys: 19.3 s, total: 2min 53s\n",
      "Wall time: 2min 37s\n"
     ]
    }
   ],
   "source": [
    "%%time\n",
    "embed.train(\n",
    "    iter_pairs(sentences_unked[:10000], vocab_gauss, ngram_id_wrap,\n",
    "               tilda_id_wrap, batch_size=10, nsamples=2,\n",
    "               window=5, n=3),\n",
    "    n_workers=8)"
   ]
  },
  {
   "cell_type": "code",
   "execution_count": 25,
   "metadata": {
    "collapsed": true
   },
   "outputs": [],
   "source": [
    "def nearest(token, num=10):\n",
    "    return [x[\"word\"] for x in embed.nearest_neighbors([(token,)], vocab=vocab_gauss, num=num)]"
   ]
  },
  {
   "cell_type": "code",
   "execution_count": 26,
   "metadata": {},
   "outputs": [
    {
     "data": {
      "text/plain": [
       "['amino_acid',\n",
       " 'blocker',\n",
       " 'subjugated',\n",
       " 'NUMBER~heme~oxygenase',\n",
       " 'pcr_positive',\n",
       " 'arginine~l~nitro',\n",
       " 'agarose_gel',\n",
       " 'anti_egfr',\n",
       " 'food~intake',\n",
       " 'short~time']"
      ]
     },
     "execution_count": 26,
     "metadata": {},
     "output_type": "execute_result"
    }
   ],
   "source": [
    "nearest('amino_acid')"
   ]
  },
  {
   "cell_type": "markdown",
   "metadata": {},
   "source": [
    "### Here goes KL-divergence."
   ]
  },
  {
   "cell_type": "code",
   "execution_count": 27,
   "metadata": {},
   "outputs": [],
   "source": [
    "from infgain.metrics import score_ngrams\n",
    "\n",
    "closed_kl_ngram_token = score_ngrams(dictionary, embed, 0, 0)\n",
    "closed_kl_token_ngram = score_ngrams(dictionary, embed, 0, 1)\n",
    "\n",
    "variational_kl_ngram_token = score_ngrams(dictionary, embed, 1, 0)\n",
    "variational_kl_token_ngram = score_ngrams(dictionary, embed, 1, 1)"
   ]
  },
  {
   "cell_type": "code",
   "execution_count": 29,
   "metadata": {
    "collapsed": true
   },
   "outputs": [],
   "source": [
    "import pandas as pd"
   ]
  },
  {
   "cell_type": "code",
   "execution_count": 35,
   "metadata": {
    "collapsed": true
   },
   "outputs": [],
   "source": [
    "def firstonly(tuples):\n",
    "    return list(map(lambda x: x[0], tuples))"
   ]
  },
  {
   "cell_type": "code",
   "execution_count": 36,
   "metadata": {
    "collapsed": true
   },
   "outputs": [],
   "source": [
    "topn = 20\n",
    "data = {'Closed KL(ngram, tilda)': firstonly(closed_kl_ngram_token[:topn]),\n",
    "        'Closed KL(tilda, ngram)': firstonly(closed_kl_token_ngram[:topn]),\n",
    "        'Variational KL(ngram, tilda)': firstonly(variational_kl_ngram_token[:topn]),\n",
    "        'Variational KL(tilda, ngram)': firstonly(variational_kl_token_ngram[:topn])}"
   ]
  },
  {
   "cell_type": "code",
   "execution_count": 37,
   "metadata": {},
   "outputs": [
    {
     "data": {
      "text/html": [
       "<div>\n",
       "<table border=\"1\" class=\"dataframe\">\n",
       "  <thead>\n",
       "    <tr style=\"text-align: right;\">\n",
       "      <th></th>\n",
       "      <th>Closed KL(ngram, tilda)</th>\n",
       "      <th>Closed KL(tilda, ngram)</th>\n",
       "      <th>Variational KL(ngram, tilda)</th>\n",
       "      <th>Variational KL(tilda, ngram)</th>\n",
       "    </tr>\n",
       "  </thead>\n",
       "  <tbody>\n",
       "    <tr>\n",
       "      <th>0</th>\n",
       "      <td>adp_transport</td>\n",
       "      <td>findings_demonstrate</td>\n",
       "      <td>substantia_nigra</td>\n",
       "      <td>substantia_nigra</td>\n",
       "    </tr>\n",
       "    <tr>\n",
       "      <th>1</th>\n",
       "      <td>dax_NUMBER</td>\n",
       "      <td>review_describes</td>\n",
       "      <td>ssa_ps</td>\n",
       "      <td>s1_nuclease</td>\n",
       "    </tr>\n",
       "    <tr>\n",
       "      <th>2</th>\n",
       "      <td>NUMBER_aryl</td>\n",
       "      <td>cephalexin_r</td>\n",
       "      <td>bipolar_mood</td>\n",
       "      <td>tick_borne</td>\n",
       "    </tr>\n",
       "    <tr>\n",
       "      <th>3</th>\n",
       "      <td>ves_v_NUMBER</td>\n",
       "      <td>NUMBER_aryl</td>\n",
       "      <td>downy_mildew</td>\n",
       "      <td>dc_dg</td>\n",
       "    </tr>\n",
       "    <tr>\n",
       "      <th>4</th>\n",
       "      <td>review_describes</td>\n",
       "      <td>allergic_patients</td>\n",
       "      <td>eu3_nps</td>\n",
       "      <td>postural_taping</td>\n",
       "    </tr>\n",
       "    <tr>\n",
       "      <th>5</th>\n",
       "      <td>reverse_transcribed</td>\n",
       "      <td>psur_reporting</td>\n",
       "      <td>ethylene_glycol</td>\n",
       "      <td>antiphospholipid_antibodies</td>\n",
       "    </tr>\n",
       "    <tr>\n",
       "      <th>6</th>\n",
       "      <td>rapid_increase</td>\n",
       "      <td>also_affected</td>\n",
       "      <td>dinor_pgs</td>\n",
       "      <td>ns5a_ns5a</td>\n",
       "    </tr>\n",
       "    <tr>\n",
       "      <th>7</th>\n",
       "      <td>alpha_epsilon_lys</td>\n",
       "      <td>rapid_increase</td>\n",
       "      <td>definitive_hosts</td>\n",
       "      <td>ssa_ps</td>\n",
       "    </tr>\n",
       "    <tr>\n",
       "      <th>8</th>\n",
       "      <td>mg_bid</td>\n",
       "      <td>rac_alpha_tocopheryl</td>\n",
       "      <td>pamcl_atropine</td>\n",
       "      <td>fragrant_pear</td>\n",
       "    </tr>\n",
       "    <tr>\n",
       "      <th>9</th>\n",
       "      <td>selenium_selenium</td>\n",
       "      <td>dax_NUMBER</td>\n",
       "      <td>mirna_signatures</td>\n",
       "      <td>hud_expressing</td>\n",
       "    </tr>\n",
       "    <tr>\n",
       "      <th>10</th>\n",
       "      <td>mirna_signatures</td>\n",
       "      <td>adp_transport</td>\n",
       "      <td>allergens_ves</td>\n",
       "      <td>cp_cpps</td>\n",
       "    </tr>\n",
       "    <tr>\n",
       "      <th>11</th>\n",
       "      <td>fish_species</td>\n",
       "      <td>normal_alt</td>\n",
       "      <td>bim_el</td>\n",
       "      <td>downy_mildew</td>\n",
       "    </tr>\n",
       "    <tr>\n",
       "      <th>12</th>\n",
       "      <td>weight_sex</td>\n",
       "      <td>patients_admitted</td>\n",
       "      <td>neurocognitive_impairment</td>\n",
       "      <td>conditioned_medium</td>\n",
       "    </tr>\n",
       "    <tr>\n",
       "      <th>13</th>\n",
       "      <td>rac_alpha_tocopheryl</td>\n",
       "      <td>cold_narcosis</td>\n",
       "      <td>ce_ms</td>\n",
       "      <td>rheumatoid_arthritis</td>\n",
       "    </tr>\n",
       "    <tr>\n",
       "      <th>14</th>\n",
       "      <td>transient_receptor_potential</td>\n",
       "      <td>adherent_cells</td>\n",
       "      <td>neovascular_amd</td>\n",
       "      <td>pamcl_atropine</td>\n",
       "    </tr>\n",
       "    <tr>\n",
       "      <th>15</th>\n",
       "      <td>psur_reporting</td>\n",
       "      <td>cl_ohpa</td>\n",
       "      <td>fuzzy_logic</td>\n",
       "      <td>ethylene_glycol</td>\n",
       "    </tr>\n",
       "    <tr>\n",
       "      <th>16</th>\n",
       "      <td>anti_cl</td>\n",
       "      <td>current_status</td>\n",
       "      <td>cp_cpps</td>\n",
       "      <td>selenium_selenium</td>\n",
       "    </tr>\n",
       "    <tr>\n",
       "      <th>17</th>\n",
       "      <td>cephalexin_r</td>\n",
       "      <td>real_time_tissue</td>\n",
       "      <td>glun1_glun2b</td>\n",
       "      <td>synthase_nos</td>\n",
       "    </tr>\n",
       "    <tr>\n",
       "      <th>18</th>\n",
       "      <td>NUMBER_h_postdose</td>\n",
       "      <td>motor_cortical</td>\n",
       "      <td>qbeta_replicase</td>\n",
       "      <td>relapse_free</td>\n",
       "    </tr>\n",
       "    <tr>\n",
       "      <th>19</th>\n",
       "      <td>may_account</td>\n",
       "      <td>expressed_genes</td>\n",
       "      <td>s1_nuclease</td>\n",
       "      <td>lactate_dehydrogenase</td>\n",
       "    </tr>\n",
       "  </tbody>\n",
       "</table>\n",
       "</div>"
      ],
      "text/plain": [
       "         Closed KL(ngram, tilda) Closed KL(tilda, ngram)  \\\n",
       "0                  adp_transport    findings_demonstrate   \n",
       "1                     dax_NUMBER        review_describes   \n",
       "2                    NUMBER_aryl            cephalexin_r   \n",
       "3                   ves_v_NUMBER             NUMBER_aryl   \n",
       "4               review_describes       allergic_patients   \n",
       "5            reverse_transcribed          psur_reporting   \n",
       "6                 rapid_increase           also_affected   \n",
       "7              alpha_epsilon_lys          rapid_increase   \n",
       "8                         mg_bid    rac_alpha_tocopheryl   \n",
       "9              selenium_selenium              dax_NUMBER   \n",
       "10              mirna_signatures           adp_transport   \n",
       "11                  fish_species              normal_alt   \n",
       "12                    weight_sex       patients_admitted   \n",
       "13          rac_alpha_tocopheryl           cold_narcosis   \n",
       "14  transient_receptor_potential          adherent_cells   \n",
       "15                psur_reporting                 cl_ohpa   \n",
       "16                       anti_cl          current_status   \n",
       "17                  cephalexin_r        real_time_tissue   \n",
       "18             NUMBER_h_postdose          motor_cortical   \n",
       "19                   may_account         expressed_genes   \n",
       "\n",
       "   Variational KL(ngram, tilda) Variational KL(tilda, ngram)  \n",
       "0              substantia_nigra             substantia_nigra  \n",
       "1                        ssa_ps                  s1_nuclease  \n",
       "2                  bipolar_mood                   tick_borne  \n",
       "3                  downy_mildew                        dc_dg  \n",
       "4                       eu3_nps              postural_taping  \n",
       "5               ethylene_glycol  antiphospholipid_antibodies  \n",
       "6                     dinor_pgs                    ns5a_ns5a  \n",
       "7              definitive_hosts                       ssa_ps  \n",
       "8                pamcl_atropine                fragrant_pear  \n",
       "9              mirna_signatures               hud_expressing  \n",
       "10                allergens_ves                      cp_cpps  \n",
       "11                       bim_el                 downy_mildew  \n",
       "12    neurocognitive_impairment           conditioned_medium  \n",
       "13                        ce_ms         rheumatoid_arthritis  \n",
       "14              neovascular_amd               pamcl_atropine  \n",
       "15                  fuzzy_logic              ethylene_glycol  \n",
       "16                      cp_cpps            selenium_selenium  \n",
       "17                 glun1_glun2b                 synthase_nos  \n",
       "18              qbeta_replicase                 relapse_free  \n",
       "19                  s1_nuclease        lactate_dehydrogenase  "
      ]
     },
     "execution_count": 37,
     "metadata": {},
     "output_type": "execute_result"
    }
   ],
   "source": [
    "pd.DataFrame(data)"
   ]
  }
 ],
 "metadata": {
  "kernelspec": {
   "display_name": "Python 3",
   "language": "python",
   "name": "python3"
  },
  "language_info": {
   "codemirror_mode": {
    "name": "ipython",
    "version": 3
   },
   "file_extension": ".py",
   "mimetype": "text/x-python",
   "name": "python",
   "nbconvert_exporter": "python",
   "pygments_lexer": "ipython3",
   "version": "3.6.2"
  }
 },
 "nbformat": 4,
 "nbformat_minor": 1
}
