{
 "cells": [
  {
   "cell_type": "code",
   "execution_count": 1,
   "metadata": {},
   "outputs": [],
   "source": [
    "from infgain.corpora import load_example_corpus"
   ]
  },
  {
   "cell_type": "markdown",
   "metadata": {},
   "source": [
    "### Load text from example corpus."
   ]
  },
  {
   "cell_type": "code",
   "execution_count": 2,
   "metadata": {
    "collapsed": true
   },
   "outputs": [],
   "source": [
    "raw_data = load_example_corpus()"
   ]
  },
  {
   "cell_type": "code",
   "execution_count": 3,
   "metadata": {},
   "outputs": [
    {
     "data": {
      "text/plain": [
       "'BACKGROUND: Rivaroxaban is currently used to prevent stroke in patients with atrial fibrillation. Measuring coagulation function may help clinicians to understand the effects of this drug and the associated risk of bleeding. METHODS AND RESULTS: Rivaroxaban was given to 136 patients with non-valvular atrial fibrillation. Mean age was 74.5+/-9.0 years (men: 63.2%) and mean CHADS2 score (+/-SD) was 1.8+/-1.2. Prothrombin times (PTs) and plasma soluble fibrin (SF) levels were examined in 84 out of '"
      ]
     },
     "execution_count": 3,
     "metadata": {},
     "output_type": "execute_result"
    }
   ],
   "source": [
    "raw_data[:500]"
   ]
  },
  {
   "cell_type": "code",
   "execution_count": 4,
   "metadata": {
    "collapsed": true
   },
   "outputs": [],
   "source": [
    "from infgain.preprocessing import sent_tokenize"
   ]
  },
  {
   "cell_type": "markdown",
   "metadata": {},
   "source": [
    "### Tokenize into sentences."
   ]
  },
  {
   "cell_type": "code",
   "execution_count": 5,
   "metadata": {
    "collapsed": true
   },
   "outputs": [],
   "source": [
    "sentences = sent_tokenize(raw_data)"
   ]
  },
  {
   "cell_type": "code",
   "execution_count": 6,
   "metadata": {
    "collapsed": true
   },
   "outputs": [],
   "source": [
    "from infgain.preprocessing import word_tokenize"
   ]
  },
  {
   "cell_type": "markdown",
   "metadata": {},
   "source": [
    "### Tokenize every sentence into words."
   ]
  },
  {
   "cell_type": "code",
   "execution_count": 7,
   "metadata": {
    "collapsed": true
   },
   "outputs": [],
   "source": [
    "sentences_tokenized = list(map(lambda x: word_tokenize(x), sentences))"
   ]
  },
  {
   "cell_type": "code",
   "execution_count": 8,
   "metadata": {
    "collapsed": true
   },
   "outputs": [],
   "source": [
    "from infgain.preprocessing import make_ngrams"
   ]
  },
  {
   "cell_type": "markdown",
   "metadata": {},
   "source": [
    "### Make ngrams out of every sentence."
   ]
  },
  {
   "cell_type": "code",
   "execution_count": 9,
   "metadata": {
    "collapsed": true
   },
   "outputs": [],
   "source": [
    "ngrams = list(map(lambda x: make_ngrams(x, 3), sentences_tokenized))"
   ]
  },
  {
   "cell_type": "code",
   "execution_count": 10,
   "metadata": {
    "collapsed": true
   },
   "outputs": [],
   "source": [
    "from infgain.preprocessing import remove_bad_ngrams"
   ]
  },
  {
   "cell_type": "markdown",
   "metadata": {},
   "source": [
    "### Remove ngrams containing stopwords."
   ]
  },
  {
   "cell_type": "code",
   "execution_count": 11,
   "metadata": {
    "collapsed": true
   },
   "outputs": [],
   "source": [
    "ngrams = list(map(lambda x: remove_bad_ngrams(x), ngrams))"
   ]
  },
  {
   "cell_type": "code",
   "execution_count": 12,
   "metadata": {},
   "outputs": [
    {
     "data": {
      "text/plain": [
       "[[('background',),\n",
       "  ('rivaroxaban',),\n",
       "  ('currently',),\n",
       "  ('used',),\n",
       "  ('prevent',),\n",
       "  ('stroke',),\n",
       "  ('patients',),\n",
       "  ('atrial',),\n",
       "  ('fibrillation',),\n",
       "  ('background', 'rivaroxaban'),\n",
       "  ('currently', 'used'),\n",
       "  ('prevent', 'stroke'),\n",
       "  ('atrial', 'fibrillation')],\n",
       " [('measuring',),\n",
       "  ('coagulation',),\n",
       "  ('function',),\n",
       "  ('may',),\n",
       "  ('help',),\n",
       "  ('clinicians',),\n",
       "  ('understand',),\n",
       "  ('effects',),\n",
       "  ('drug',),\n",
       "  ('associated',),\n",
       "  ('risk',),\n",
       "  ('bleeding',),\n",
       "  ('measuring', 'coagulation'),\n",
       "  ('coagulation', 'function'),\n",
       "  ('function', 'may'),\n",
       "  ('may', 'help'),\n",
       "  ('help', 'clinicians'),\n",
       "  ('associated', 'risk'),\n",
       "  ('measuring', 'coagulation', 'function'),\n",
       "  ('coagulation', 'function', 'may'),\n",
       "  ('function', 'may', 'help'),\n",
       "  ('may', 'help', 'clinicians')]]"
      ]
     },
     "execution_count": 12,
     "metadata": {},
     "output_type": "execute_result"
    }
   ],
   "source": [
    "ngrams[:2]"
   ]
  },
  {
   "cell_type": "code",
   "execution_count": 13,
   "metadata": {
    "collapsed": true
   },
   "outputs": [],
   "source": [
    "from infgain.preprocessing import make_dict"
   ]
  },
  {
   "cell_type": "markdown",
   "metadata": {},
   "source": [
    "### Make dictionary out of ngrams."
   ]
  },
  {
   "cell_type": "code",
   "execution_count": 14,
   "metadata": {
    "collapsed": true
   },
   "outputs": [],
   "source": [
    "dictionary, reversed_dictionary = make_dict(ngrams)"
   ]
  },
  {
   "cell_type": "markdown",
   "metadata": {},
   "source": [
    "### Replace OOV-words with UNK"
   ]
  },
  {
   "cell_type": "code",
   "execution_count": 50,
   "metadata": {},
   "outputs": [],
   "source": [
    "from infgain.preprocessing import replace_unk_list\n",
    "\n",
    "sentences_unked = list(map(lambda x: replace_unk_list(x, dictionary), sentences_tokenized))\n",
    "sentences_unked = list(filter(lambda x: len(x) > 0, sentences_unked))"
   ]
  },
  {
   "cell_type": "code",
   "execution_count": 51,
   "metadata": {
    "collapsed": true
   },
   "outputs": [],
   "source": [
    "from infgain.preprocessing import make_tupled_dicts\n",
    "\n",
    "dict_ngram_id_by_tuple, dict_tilda_id_by_tuple = make_tupled_dicts(dictionary)"
   ]
  },
  {
   "cell_type": "code",
   "execution_count": 52,
   "metadata": {},
   "outputs": [
    {
     "data": {
      "text/plain": [
       "(10, 16568)"
      ]
     },
     "execution_count": 52,
     "metadata": {},
     "output_type": "execute_result"
    }
   ],
   "source": [
    "from infgain.preprocessing import ngram_id, tilda_id\n",
    "\n",
    "ngram_id((3,4), dict_ngram_id_by_tuple), ngram_id((3,4), dict_tilda_id_by_tuple)"
   ]
  },
  {
   "cell_type": "code",
   "execution_count": 53,
   "metadata": {
    "scrolled": true
   },
   "outputs": [
    {
     "data": {
      "text/plain": [
       "('currently~used', 'currently_used', 'currently', 'used')"
      ]
     },
     "execution_count": 53,
     "metadata": {},
     "output_type": "execute_result"
    }
   ],
   "source": [
    "reversed_dictionary[16568], reversed_dictionary[10], reversed_dictionary[3], reversed_dictionary[4]"
   ]
  },
  {
   "cell_type": "markdown",
   "metadata": {},
   "source": [
    "# Try to train word2gauss model"
   ]
  },
  {
   "cell_type": "code",
   "execution_count": 54,
   "metadata": {
    "collapsed": true
   },
   "outputs": [],
   "source": [
    "from word2gauss import GaussianEmbedding, iter_pairs\n",
    "from word2gauss.words import Vocabulary\n",
    "\n",
    "vocab_gauss = Vocabulary(dictionary)\n",
    "embed = GaussianEmbedding(len(dictionary), 100,\n",
    "                          covariance_type='diagonal',\n",
    "                          energy_type='KL')"
   ]
  },
  {
   "cell_type": "code",
   "execution_count": 55,
   "metadata": {
    "collapsed": true
   },
   "outputs": [],
   "source": [
    "#TODO: Rewrite more wisely (i forgot how to wrap correctly such functions)\n",
    "\n",
    "def ngram_id_wrap(x):\n",
    "    return ngram_id(x, dict_ngram_id_by_tuple)\n",
    "\n",
    "def tilda_id_wrap(x):\n",
    "    return tilda_id(x, dict_tilda_id_by_tuple)"
   ]
  },
  {
   "cell_type": "code",
   "execution_count": 56,
   "metadata": {},
   "outputs": [
    {
     "name": "stdout",
     "output_type": "stream",
     "text": [
      "CPU times: user 16.3 s, sys: 2.4 s, total: 18.8 s\n",
      "Wall time: 17.8 s\n"
     ]
    }
   ],
   "source": [
    "%%time\n",
    "embed.train(\n",
    "    iter_pairs(sentences_unked[:1000], vocab_gauss, ngram_id_wrap,\n",
    "               tilda_id_wrap, batch_size=10, nsamples=2,\n",
    "               window=5, n=3),\n",
    "    n_workers=8)"
   ]
  },
  {
   "cell_type": "code",
   "execution_count": 58,
   "metadata": {},
   "outputs": [],
   "source": [
    "def nearest(token, num=10):\n",
    "    return [x[\"word\"] for x in embed.nearest_neighbors([(token,)], vocab=vocab_gauss, num=num)]"
   ]
  },
  {
   "cell_type": "code",
   "execution_count": 59,
   "metadata": {},
   "outputs": [
    {
     "data": {
      "text/plain": [
       "['normal_breast_tissue',\n",
       " 'hypotension',\n",
       " 'propafenone',\n",
       " 'egfr~therapy',\n",
       " 'c_virus_hcv',\n",
       " 'analysis~sensitivity',\n",
       " 'cystic~fibrosis~transmembrane',\n",
       " 'analysis~regression',\n",
       " 'cases_NUMBER',\n",
       " 'interfering_rna']"
      ]
     },
     "execution_count": 59,
     "metadata": {},
     "output_type": "execute_result"
    }
   ],
   "source": [
    "nearest('normal_breast_tissue')"
   ]
  },
  {
   "cell_type": "code",
   "execution_count": 61,
   "metadata": {},
   "outputs": [
    {
     "data": {
      "text/plain": [
       "['amino_acid',\n",
       " 'subjugated',\n",
       " 'state~steady',\n",
       " 'associated~significantly',\n",
       " 'pcr_positive',\n",
       " 'cells~dendritic',\n",
       " 'characterize',\n",
       " 'genes~pmqr',\n",
       " 'agarose_gel',\n",
       " 'anti_egfr']"
      ]
     },
     "execution_count": 61,
     "metadata": {},
     "output_type": "execute_result"
    }
   ],
   "source": [
    "nearest('amino_acid')"
   ]
  },
  {
   "cell_type": "code",
   "execution_count": 62,
   "metadata": {},
   "outputs": [
    {
     "data": {
      "text/plain": [
       "['wistar',\n",
       " 'circular',\n",
       " 'cell_based',\n",
       " 'glucose_uptake',\n",
       " 'phase',\n",
       " 'g~phu',\n",
       " 'procedures~surgical',\n",
       " 'drug~resistance',\n",
       " 'activation~platelet',\n",
       " 'ampa~receptors']"
      ]
     },
     "execution_count": 62,
     "metadata": {},
     "output_type": "execute_result"
    }
   ],
   "source": [
    "nearest('wistar')"
   ]
  }
 ],
 "metadata": {
  "kernelspec": {
   "display_name": "Python 3",
   "language": "python",
   "name": "python3"
  },
  "language_info": {
   "codemirror_mode": {
    "name": "ipython",
    "version": 3
   },
   "file_extension": ".py",
   "mimetype": "text/x-python",
   "name": "python",
   "nbconvert_exporter": "python",
   "pygments_lexer": "ipython3",
   "version": "3.6.2"
  }
 },
 "nbformat": 4,
 "nbformat_minor": 1
}
