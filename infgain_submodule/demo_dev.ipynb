{
 "cells": [
  {
   "cell_type": "markdown",
   "metadata": {},
   "source": [
    "DataReader <- Tokenizer\n",
    "\n",
    "Model <- TokenEmbedder"
   ]
  },
  {
   "cell_type": "markdown",
   "metadata": {},
   "source": [
    "text -> sentences -> tokenized sentences -> "
   ]
  },
  {
   "cell_type": "markdown",
   "metadata": {},
   "source": [
    "### Load text from example corpus."
   ]
  },
  {
   "cell_type": "code",
   "execution_count": 3,
   "metadata": {},
   "outputs": [
    {
     "name": "stdout",
     "output_type": "stream",
     "text": [
      "The autoreload extension is already loaded. To reload it, use:\n",
      "  %reload_ext autoreload\n"
     ]
    }
   ],
   "source": [
    "%load_ext autoreload\n",
    "%autoreload 2"
   ]
  },
  {
   "cell_type": "code",
   "execution_count": 4,
   "metadata": {},
   "outputs": [
    {
     "data": {
      "text/plain": [
       "'BACKGROUND: Rivaroxaban is currently used to prevent stroke in patients with atrial fibrillation. Measuring coagulation function may help clinicians to understand the effects of this drug and the associated risk of bleeding. METHODS AND RESULTS: Rivaroxaban was given to 136 patients with non-valvular atrial fibrillation. Mean age was 74.5+/-9.0 years (men: 63.2%) and mean CHADS2 score (+/-SD) was 1.8+/-1.2. Prothrombin times (PTs) and plasma soluble fibrin (SF) levels were examined in 84 out of '"
      ]
     },
     "execution_count": 4,
     "metadata": {},
     "output_type": "execute_result"
    }
   ],
   "source": [
    "from infgain.corpora import load_example_corpus\n",
    "\n",
    "raw_data = load_example_corpus()\n",
    "raw_data[:500]"
   ]
  },
  {
   "cell_type": "markdown",
   "metadata": {},
   "source": [
    "### Tokenize into sentences."
   ]
  },
  {
   "cell_type": "code",
   "execution_count": 5,
   "metadata": {},
   "outputs": [
    {
     "data": {
      "text/plain": [
       "['BACKGROUND: Rivaroxaban is currently used to prevent stroke in patients with atrial fibrillation.',\n",
       " 'Measuring coagulation function may help clinicians to understand the effects of this drug and the associated risk of bleeding.']"
      ]
     },
     "execution_count": 5,
     "metadata": {},
     "output_type": "execute_result"
    }
   ],
   "source": [
    "from infgain.preprocessing import sent_tokenize\n",
    "\n",
    "sentences = sent_tokenize(raw_data)\n",
    "sentences[:2]"
   ]
  },
  {
   "cell_type": "markdown",
   "metadata": {},
   "source": [
    "### Test BIOPHRASES"
   ]
  },
  {
   "cell_type": "code",
   "execution_count": 10,
   "metadata": {
    "collapsed": true
   },
   "outputs": [],
   "source": [
    "import biophrases"
   ]
  },
  {
   "cell_type": "code",
   "execution_count": 35,
   "metadata": {},
   "outputs": [],
   "source": [
    "tfidf_scored_ngrams = biophrases.tfidf.tf_idf(sentences_strings, n=2)  # `n` determines length of ngrams"
   ]
  },
  {
   "cell_type": "code",
   "execution_count": 71,
   "metadata": {},
   "outputs": [],
   "source": [
    "pagerank_scored_ngrams = biophrases.graphs.bigrams_from_best(sentences_tokenized[:10], 'pagerank', t=3)"
   ]
  },
  {
   "cell_type": "code",
   "execution_count": 72,
   "metadata": {},
   "outputs": [
    {
     "data": {
      "text/plain": [
       "[(('NUMBER', 'patients'), 0.4402907389516951),\n",
       " (('atrial', 'fibrillation'), 0.4158485325475557),\n",
       " (('NUMBER', 'years'), 0.3123757729046728),\n",
       " (('bleeding', 'events'), 0.2884007115986025),\n",
       " (('high', 'brain'), 0.1509092988282213),\n",
       " (('associated', 'risk'), 0.12779178859351065),\n",
       " (('peak', 'times'), 0.11110170056431382),\n",
       " (('times', 'namely'), 0.09116495359563193)]"
      ]
     },
     "execution_count": 72,
     "metadata": {},
     "output_type": "execute_result"
    }
   ],
   "source": [
    "pagerank_scored_ngrams"
   ]
  },
  {
   "cell_type": "markdown",
   "metadata": {},
   "source": [
    "### Tokenize every sentence into words."
   ]
  },
  {
   "cell_type": "code",
   "execution_count": 16,
   "metadata": {},
   "outputs": [
    {
     "data": {
      "text/plain": [
       "[['mean',\n",
       "  'age',\n",
       "  'was',\n",
       "  'NUMBER',\n",
       "  'years',\n",
       "  'men',\n",
       "  'NUMBER',\n",
       "  'and',\n",
       "  'mean',\n",
       "  'chads2',\n",
       "  'score',\n",
       "  'sd',\n",
       "  'was',\n",
       "  'NUMBER']]"
      ]
     },
     "execution_count": 16,
     "metadata": {},
     "output_type": "execute_result"
    }
   ],
   "source": [
    "from infgain.preprocessing import word_tokenize\n",
    "\n",
    "sentences_tokenized = list(map(lambda x: word_tokenize(x), sentences))\n",
    "sentences_tokenized[3:4]"
   ]
  },
  {
   "cell_type": "markdown",
   "metadata": {},
   "source": [
    "### Make dictionaries out of words."
   ]
  },
  {
   "cell_type": "code",
   "execution_count": 42,
   "metadata": {
    "collapsed": true
   },
   "outputs": [],
   "source": [
    "from infgain.preprocessing import make_dict\n",
    "\n",
    "dictionary, reversed_dictionary = make_dict(sentences_tokenized)"
   ]
  },
  {
   "cell_type": "code",
   "execution_count": 49,
   "metadata": {},
   "outputs": [
    {
     "data": {
      "text/plain": [
       "(3706, 16233, 3705, 1078)"
      ]
     },
     "execution_count": 49,
     "metadata": {},
     "output_type": "execute_result"
    }
   ],
   "source": [
    "dictionary['amino_acid'], dictionary['acid~amino'], dictionary['amino'], dictionary['acid']"
   ]
  },
  {
   "cell_type": "markdown",
   "metadata": {},
   "source": [
    "### Replace OOV-words with UNK."
   ]
  },
  {
   "cell_type": "code",
   "execution_count": 58,
   "metadata": {
    "collapsed": true
   },
   "outputs": [],
   "source": [
    "from infgain.preprocessing import replace_unk_list\n",
    "\n",
    "sentences_unked = list(map(lambda x: replace_unk_list(x, dictionary), sentences_tokenized))\n",
    "sentences_unked = list(filter(lambda x: len(x) > 0, sentences_unked))\n",
    "sentences_unked = list(filter(lambda x: len(x.split()) > 1, sentences_unked))"
   ]
  },
  {
   "cell_type": "markdown",
   "metadata": {},
   "source": [
    "### Make dictionaries of tuples -> token_id."
   ]
  },
  {
   "cell_type": "code",
   "execution_count": 9,
   "metadata": {
    "collapsed": true
   },
   "outputs": [],
   "source": [
    "from infgain.preprocessing import make_tupled_dicts\n",
    "\n",
    "dict_ngram_id_by_tuple, dict_tilda_id_by_tuple = make_tupled_dicts(dictionary)"
   ]
  },
  {
   "cell_type": "code",
   "execution_count": 10,
   "metadata": {},
   "outputs": [
    {
     "data": {
      "text/plain": [
       "(10, 21033)"
      ]
     },
     "execution_count": 10,
     "metadata": {},
     "output_type": "execute_result"
    }
   ],
   "source": [
    "from infgain.preprocessing import ngram_id, tilda_id\n",
    "\n",
    "# TODO: Rewrite more wisely (i forgot how to wrap correctly such functions)!\n",
    "def ngram_id_wrap(x):\n",
    "    return ngram_id(x, dict_ngram_id_by_tuple)\n",
    "\n",
    "def tilda_id_wrap(x):\n",
    "    return tilda_id(x, dict_tilda_id_by_tuple)\n",
    "\n",
    "ngram_id((3,4), dict_ngram_id_by_tuple), tilda_id((3,4), dict_tilda_id_by_tuple)"
   ]
  },
  {
   "cell_type": "code",
   "execution_count": 11,
   "metadata": {
    "scrolled": true
   },
   "outputs": [
    {
     "data": {
      "text/plain": [
       "('high~throughput', 'currently_used', 'currently', 'used')"
      ]
     },
     "execution_count": 11,
     "metadata": {},
     "output_type": "execute_result"
    }
   ],
   "source": [
    "reversed_dictionary[20510], reversed_dictionary[10], reversed_dictionary[3], reversed_dictionary[4]"
   ]
  },
  {
   "cell_type": "markdown",
   "metadata": {},
   "source": [
    "### Try to train word2gauss model."
   ]
  },
  {
   "cell_type": "code",
   "execution_count": 22,
   "metadata": {
    "collapsed": true
   },
   "outputs": [],
   "source": [
    "from word2gauss import GaussianEmbedding, iter_pairs\n",
    "from word2gauss.words import Vocabulary\n",
    "\n",
    "vocab_gauss = Vocabulary(dictionary)\n",
    "\n",
    "embed = GaussianEmbedding(len(dictionary),\n",
    "                          100,\n",
    "                          covariance_type='diagonal',\n",
    "                          energy_type='KL')"
   ]
  },
  {
   "cell_type": "code",
   "execution_count": 23,
   "metadata": {
    "collapsed": true
   },
   "outputs": [],
   "source": [
    "sentences_unked = list(filter(lambda x: len(x.split()) > 1, sentences_unked))"
   ]
  },
  {
   "cell_type": "code",
   "execution_count": 24,
   "metadata": {},
   "outputs": [
    {
     "name": "stdout",
     "output_type": "stream",
     "text": [
      "CPU times: user 2min 34s, sys: 19.3 s, total: 2min 53s\n",
      "Wall time: 2min 37s\n"
     ]
    }
   ],
   "source": [
    "%%time\n",
    "embed.train(\n",
    "    iter_pairs(sentences_unked[:10000], vocab_gauss, ngram_id_wrap,\n",
    "               tilda_id_wrap, batch_size=10, nsamples=2,\n",
    "               window=5, n=3),\n",
    "    n_workers=8)"
   ]
  },
  {
   "cell_type": "code",
   "execution_count": 25,
   "metadata": {
    "collapsed": true
   },
   "outputs": [],
   "source": [
    "def nearest(token, num=10):\n",
    "    return [x[\"word\"] for x in embed.nearest_neighbors([(token,)], vocab=vocab_gauss, num=num)]"
   ]
  },
  {
   "cell_type": "code",
   "execution_count": 26,
   "metadata": {},
   "outputs": [
    {
     "data": {
      "text/plain": [
       "['amino_acid',\n",
       " 'blocker',\n",
       " 'subjugated',\n",
       " 'NUMBER~heme~oxygenase',\n",
       " 'pcr_positive',\n",
       " 'arginine~l~nitro',\n",
       " 'agarose_gel',\n",
       " 'anti_egfr',\n",
       " 'food~intake',\n",
       " 'short~time']"
      ]
     },
     "execution_count": 26,
     "metadata": {},
     "output_type": "execute_result"
    }
   ],
   "source": [
    "nearest('amino_acid')"
   ]
  },
  {
   "cell_type": "markdown",
   "metadata": {},
   "source": [
    "# _SHORT__ version of model training"
   ]
  },
  {
   "cell_type": "code",
   "execution_count": 157,
   "metadata": {
    "collapsed": true
   },
   "outputs": [],
   "source": [
    "import time\n",
    "from word2gauss import GaussianEmbedding, iter_pairs\n",
    "from word2gauss.words import Vocabulary\n",
    "\n",
    "import biophrases\n",
    "from infgain.preprocessing import ngram_id, tilda_id, make_tupled_dicts, replace_unk_list\n",
    "from infgain.metrics import score_ngrams\n",
    "\n",
    "\n",
    "def get_scored_ngrams(tokenized_sentences: list, measure: str):\n",
    "    \"\"\"\n",
    "    :param measure: 'pagerank', 'tfidf', 'closed_ngram_tilda', 'closed_tilda_ngram',\n",
    "                    'variational_ngram_tilda', 'variational_tilda_ngram'\n",
    "    \"\"\"\n",
    "    print('Starting... {}'.format(measure))\n",
    "    t1 = time.time()\n",
    "    if measure is 'pagerank':\n",
    "        pagerank_scored_ngrams = biophrases.graphs.bigrams_from_best(tokenized_sentences, 'pagerank', t=3)\n",
    "        pagerank_scored_ngrams = list(map(lambda x: (' '.join(x[0]), x[1]), pagerank_scored_ngrams))\n",
    "        \n",
    "        t2 = time.time()\n",
    "        print('it took: {} s'.format(t2 - t1))\n",
    "        return pagerank_scored_ngrams\n",
    "\n",
    "    elif measure is 'tfidf':\n",
    "        sentences_strings = list(map(lambda x: ' '.join(x), tokenized_sentences))\n",
    "        tfidf_scored_ngrams = biophrases.tfidf.tf_idf(sentences_strings, n=2)  # `n` determines length of ngrams\n",
    "        \n",
    "        t2 = time.time()\n",
    "        print('it took: {} s'.format(t2 - t1))\n",
    "        return tfidf_scored_ngrams\n",
    "\n",
    "    elif measure in ['closed_ngram_tilda', 'closed_tilda_ngram',\n",
    "                     'variational_ngram_tilda', 'variational_tilda_ngram']:\n",
    "        \n",
    "        dictionary, reversed_dictionary = make_dict(tokenized_sentences, 3, threshold=1)\n",
    "        \n",
    "        sentences_unked = list(map(lambda x: replace_unk_list(x, dictionary), tokenized_sentences))\n",
    "        sentences_unked = list(filter(lambda x: len(x) > 0, sentences_unked))\n",
    "        sentences_unked = list(filter(lambda x: len(x.split()) > 1, sentences_unked))\n",
    "        \n",
    "        vocab_gauss = Vocabulary(dictionary)\n",
    "\n",
    "        embed = GaussianEmbedding(len(dictionary), 100,\n",
    "                                  covariance_type='diagonal',\n",
    "                                  energy_type='KL')\n",
    "\n",
    "        dict_ngram_id_by_tuple, dict_tilda_id_by_tuple = make_tupled_dicts(dictionary)\n",
    "\n",
    "        # TODO: Rewrite more wisely (i forgot how to wrap correctly such functions)!\n",
    "        def ngram_id_wrap(x):\n",
    "            return ngram_id(x, dict_ngram_id_by_tuple)\n",
    "\n",
    "        def tilda_id_wrap(x):\n",
    "            return tilda_id(x, dict_tilda_id_by_tuple)\n",
    "\n",
    "        embed.train(\n",
    "        iter_pairs(sentences_unked, vocab_gauss, ngram_id_wrap,\n",
    "                   tilda_id_wrap, batch_size=10, nsamples=2,\n",
    "                   window=5, n=3),\n",
    "        n_workers=8)\n",
    "\n",
    "        if measure is 'closed_ngram_tilda':\n",
    "            t2 = time.time()\n",
    "            print('it took: {} s'.format(t2 - t1))\n",
    "            return score_ngrams(dictionary, embed, 0, 0)\n",
    "\n",
    "        elif measure is 'closed_tilda_ngram':\n",
    "            t2 = time.time()\n",
    "            print('it took: {} s'.format(t2 - t1))\n",
    "            return score_ngrams(dictionary, embed, 0, 1)\n",
    "\n",
    "        elif measure is 'variational_ngram_tilda':\n",
    "            t2 = time.time()\n",
    "            print('it took: {} s'.format(t2 - t1))\n",
    "            return score_ngrams(dictionary, embed, 1, 0)\n",
    "\n",
    "        elif measure is 'variational_tilda_ngram':\n",
    "            t2 = time.time()\n",
    "            print('it took: {} s'.format(t2 - t1))\n",
    "            return score_ngrams(dictionary, embed, 1, 1)\n",
    "    else:\n",
    "        print(\"Wrong 'measure'\")\n",
    "        return -1"
   ]
  },
  {
   "cell_type": "markdown",
   "metadata": {},
   "source": [
    "### Here goes KL-divergence."
   ]
  },
  {
   "cell_type": "code",
   "execution_count": 126,
   "metadata": {},
   "outputs": [],
   "source": [
    "from infgain.metrics import score_ngrams\n",
    "\n",
    "closed_kl_ngram_token = score_ngrams(dictionary, embed, 0, 0)\n",
    "closed_kl_token_ngram = score_ngrams(dictionary, embed, 0, 1)\n",
    "\n",
    "variational_kl_ngram_token = score_ngrams(dictionary, embed, 1, 0)\n",
    "variational_kl_token_ngram = score_ngrams(dictionary, embed, 1, 1)"
   ]
  },
  {
   "cell_type": "code",
   "execution_count": 127,
   "metadata": {
    "collapsed": true
   },
   "outputs": [],
   "source": [
    "import pandas as pd"
   ]
  },
  {
   "cell_type": "code",
   "execution_count": 158,
   "metadata": {
    "collapsed": true
   },
   "outputs": [],
   "source": [
    "def firstonly(tuples):\n",
    "    return list(map(lambda x: x[0], tuples))"
   ]
  },
  {
   "cell_type": "code",
   "execution_count": 159,
   "metadata": {},
   "outputs": [
    {
     "name": "stdout",
     "output_type": "stream",
     "text": [
      "Starting... tfidf\n",
      "it took: 0.09041309356689453 s\n",
      "Starting... pagerank\n",
      "it took: 2.8091390132904053 s\n",
      "Starting... closed_ngram_tilda\n",
      "it took: 16.634124040603638 s\n",
      "Starting... closed_tilda_ngram\n",
      "it took: 16.451080083847046 s\n",
      "Starting... variational_ngram_tilda\n",
      "it took: 16.524410009384155 s\n",
      "Starting... variational_tilda_ngram\n",
      "it took: 16.13958501815796 s\n"
     ]
    }
   ],
   "source": [
    "# topn = 20\n",
    "# data = {'Closed KL(ngram, tilda)': firstonly(closed_kl_ngram_token[:topn]),\n",
    "#         'Closed KL(tilda, ngram)': firstonly(closed_kl_token_ngram[:topn]),\n",
    "#         'Variational KL(ngram, tilda)': firstonly(variational_kl_ngram_token[:topn]),\n",
    "#         'Variational KL(tilda, ngram)': firstonly(variational_kl_token_ngram[:topn])}\n",
    "\n",
    "topn = 20\n",
    "data = {'TF-IDF':                       firstonly(get_scored_ngrams(sentences_tokenized[:1000], 'tfidf')[:topn]),\n",
    "        'PageRank':                     firstonly(get_scored_ngrams(sentences_tokenized[:1000], 'pagerank')[:topn]),\n",
    "        \n",
    "        'Closed KL(ngram, tilda)':      firstonly(get_scored_ngrams(sentences_tokenized[:1000], 'closed_ngram_tilda')[:topn]),\n",
    "        'Closed KL(tilda, ngram)':      firstonly(get_scored_ngrams(sentences_tokenized[:1000], 'closed_tilda_ngram')[:topn]),\n",
    "\n",
    "        'Variational KL(ngram, tilda)': firstonly(get_scored_ngrams(sentences_tokenized[:1000], 'variational_ngram_tilda')[:topn]),\n",
    "        'Variational KL(tilda, ngram)': firstonly(get_scored_ngrams(sentences_tokenized[:1000], 'variational_tilda_ngram')[:topn])}"
   ]
  },
  {
   "cell_type": "code",
   "execution_count": 161,
   "metadata": {},
   "outputs": [
    {
     "data": {
      "text/html": [
       "<div>\n",
       "<table border=\"1\" class=\"dataframe\">\n",
       "  <thead>\n",
       "    <tr style=\"text-align: right;\">\n",
       "      <th></th>\n",
       "      <th>Closed KL(ngram, tilda)</th>\n",
       "      <th>Closed KL(tilda, ngram)</th>\n",
       "      <th>PageRank</th>\n",
       "      <th>TF-IDF</th>\n",
       "      <th>Variational KL(ngram, tilda)</th>\n",
       "      <th>Variational KL(tilda, ngram)</th>\n",
       "    </tr>\n",
       "  </thead>\n",
       "  <tbody>\n",
       "    <tr>\n",
       "      <th>0</th>\n",
       "      <td>ovarian_venous</td>\n",
       "      <td>ovarian_venous</td>\n",
       "      <td>NUMBER patients</td>\n",
       "      <td>number number</td>\n",
       "      <td>radix_paeoniae</td>\n",
       "      <td>interfering_rna</td>\n",
       "    </tr>\n",
       "    <tr>\n",
       "      <th>1</th>\n",
       "      <td>mammalian_cells</td>\n",
       "      <td>mannose_NUMBER_phosphate</td>\n",
       "      <td>cremoris sk110</td>\n",
       "      <td>il number</td>\n",
       "      <td>industrial_interest</td>\n",
       "      <td>radix_paeoniae</td>\n",
       "    </tr>\n",
       "    <tr>\n",
       "      <th>2</th>\n",
       "      <td>mimics_inhibitors</td>\n",
       "      <td>mammalian_cells</td>\n",
       "      <td>mir NUMBER</td>\n",
       "      <td>mir number</td>\n",
       "      <td>uplc_ms</td>\n",
       "      <td>repeat_alleles</td>\n",
       "    </tr>\n",
       "    <tr>\n",
       "      <th>3</th>\n",
       "      <td>atypical_bacterial</td>\n",
       "      <td>kappa_b</td>\n",
       "      <td>NUMBER respectively</td>\n",
       "      <td>number patients</td>\n",
       "      <td>ras_effector</td>\n",
       "      <td>necrosis_factor</td>\n",
       "    </tr>\n",
       "    <tr>\n",
       "      <th>4</th>\n",
       "      <td>oral_epithelium</td>\n",
       "      <td>mitochondrial_proteomics</td>\n",
       "      <td>brucella spp</td>\n",
       "      <td>dif number</td>\n",
       "      <td>atp_hydrolysis</td>\n",
       "      <td>sister_chromatids</td>\n",
       "    </tr>\n",
       "    <tr>\n",
       "      <th>5</th>\n",
       "      <td>yielding_journals</td>\n",
       "      <td>immediately_following</td>\n",
       "      <td>lactis ssp</td>\n",
       "      <td>number il</td>\n",
       "      <td>body_collection</td>\n",
       "      <td>myb_transcription</td>\n",
       "    </tr>\n",
       "    <tr>\n",
       "      <th>6</th>\n",
       "      <td>increased_number</td>\n",
       "      <td>individual_differences</td>\n",
       "      <td>NUMBER nests</td>\n",
       "      <td>cremoris sk110</td>\n",
       "      <td>signal_transduction</td>\n",
       "      <td>body_collection</td>\n",
       "    </tr>\n",
       "    <tr>\n",
       "      <th>7</th>\n",
       "      <td>red_hair</td>\n",
       "      <td>sex_determination</td>\n",
       "      <td>calyx persistence</td>\n",
       "      <td>bodipy dif</td>\n",
       "      <td>cadherins_me1</td>\n",
       "      <td>ras_effector</td>\n",
       "    </tr>\n",
       "    <tr>\n",
       "      <th>8</th>\n",
       "      <td>staphylococcus_aureus_mrsa</td>\n",
       "      <td>cy5_NUMBER</td>\n",
       "      <td>radix paeoniae</td>\n",
       "      <td>number mg</td>\n",
       "      <td>oral_epithelium</td>\n",
       "      <td>coagulation_function</td>\n",
       "    </tr>\n",
       "    <tr>\n",
       "      <th>9</th>\n",
       "      <td>immediately_following</td>\n",
       "      <td>mimics_inhibitors</td>\n",
       "      <td>bodipy dif</td>\n",
       "      <td>patients number</td>\n",
       "      <td>indirect_immunofluorescence</td>\n",
       "      <td>target_sites</td>\n",
       "    </tr>\n",
       "    <tr>\n",
       "      <th>10</th>\n",
       "      <td>mannose_NUMBER_phosphate</td>\n",
       "      <td>rt_pcr</td>\n",
       "      <td>NUMBER years</td>\n",
       "      <td>alpha glucosidase</td>\n",
       "      <td>calyx_persistence</td>\n",
       "      <td>flanking_sequences</td>\n",
       "    </tr>\n",
       "    <tr>\n",
       "      <th>11</th>\n",
       "      <td>kappa_b</td>\n",
       "      <td>genital_tract</td>\n",
       "      <td>mixed populations</td>\n",
       "      <td>significant difference</td>\n",
       "      <td>fallopian_tube</td>\n",
       "      <td>industrial_interest</td>\n",
       "    </tr>\n",
       "    <tr>\n",
       "      <th>12</th>\n",
       "      <td>neurosurgical_intensive_care</td>\n",
       "      <td>heredity_hr</td>\n",
       "      <td>dif NUMBER</td>\n",
       "      <td>caspase number</td>\n",
       "      <td>controlled_anaesthesia</td>\n",
       "      <td>controlled_anaesthesia</td>\n",
       "    </tr>\n",
       "    <tr>\n",
       "      <th>13</th>\n",
       "      <td>ppar_agonists</td>\n",
       "      <td>resistant_staphylococcus_aureus</td>\n",
       "      <td>NUMBER samples</td>\n",
       "      <td>number years</td>\n",
       "      <td>display_rt</td>\n",
       "      <td>virulence_markers</td>\n",
       "    </tr>\n",
       "    <tr>\n",
       "      <th>14</th>\n",
       "      <td>viral_epidemics</td>\n",
       "      <td>increased_number</td>\n",
       "      <td>lactic acid</td>\n",
       "      <td>number degrees</td>\n",
       "      <td>ki67_index</td>\n",
       "      <td>signal_transduction</td>\n",
       "    </tr>\n",
       "    <tr>\n",
       "      <th>15</th>\n",
       "      <td>heredity_hr</td>\n",
       "      <td>inhibitors_showed</td>\n",
       "      <td>NUMBER degrees</td>\n",
       "      <td>lactic acid</td>\n",
       "      <td>l_lactis_ssp</td>\n",
       "      <td>md_simulations</td>\n",
       "    </tr>\n",
       "    <tr>\n",
       "      <th>16</th>\n",
       "      <td>term_outcome</td>\n",
       "      <td>ml_per</td>\n",
       "      <td>november NUMBER</td>\n",
       "      <td>number respectively</td>\n",
       "      <td>cd8_cd28_ts</td>\n",
       "      <td>mature_forms</td>\n",
       "    </tr>\n",
       "    <tr>\n",
       "      <th>17</th>\n",
       "      <td>expression_patterns</td>\n",
       "      <td>rates_diet_quality</td>\n",
       "      <td>NUMBER months</td>\n",
       "      <td>bcl number</td>\n",
       "      <td>erector_spinae</td>\n",
       "      <td>abandoned_mining</td>\n",
       "    </tr>\n",
       "    <tr>\n",
       "      <th>18</th>\n",
       "      <td>p_NUMBER_respectively</td>\n",
       "      <td>peak_sf_levels</td>\n",
       "      <td>year NUMBER</td>\n",
       "      <td>frk number</td>\n",
       "      <td>egf_r</td>\n",
       "      <td>mv_pchlide</td>\n",
       "    </tr>\n",
       "    <tr>\n",
       "      <th>19</th>\n",
       "      <td>female_genital_tract</td>\n",
       "      <td>fraction_ii</td>\n",
       "      <td>pha stimulation</td>\n",
       "      <td>beta catenin</td>\n",
       "      <td>articles_retrieved</td>\n",
       "      <td>salmonella_typhimurium</td>\n",
       "    </tr>\n",
       "  </tbody>\n",
       "</table>\n",
       "</div>"
      ],
      "text/plain": [
       "         Closed KL(ngram, tilda)          Closed KL(tilda, ngram)  \\\n",
       "0                 ovarian_venous                   ovarian_venous   \n",
       "1                mammalian_cells         mannose_NUMBER_phosphate   \n",
       "2              mimics_inhibitors                  mammalian_cells   \n",
       "3             atypical_bacterial                          kappa_b   \n",
       "4                oral_epithelium         mitochondrial_proteomics   \n",
       "5              yielding_journals            immediately_following   \n",
       "6               increased_number           individual_differences   \n",
       "7                       red_hair                sex_determination   \n",
       "8     staphylococcus_aureus_mrsa                       cy5_NUMBER   \n",
       "9          immediately_following                mimics_inhibitors   \n",
       "10      mannose_NUMBER_phosphate                           rt_pcr   \n",
       "11                       kappa_b                    genital_tract   \n",
       "12  neurosurgical_intensive_care                      heredity_hr   \n",
       "13                 ppar_agonists  resistant_staphylococcus_aureus   \n",
       "14               viral_epidemics                 increased_number   \n",
       "15                   heredity_hr                inhibitors_showed   \n",
       "16                  term_outcome                           ml_per   \n",
       "17           expression_patterns               rates_diet_quality   \n",
       "18         p_NUMBER_respectively                   peak_sf_levels   \n",
       "19          female_genital_tract                      fraction_ii   \n",
       "\n",
       "               PageRank                  TF-IDF Variational KL(ngram, tilda)  \\\n",
       "0       NUMBER patients           number number               radix_paeoniae   \n",
       "1        cremoris sk110               il number          industrial_interest   \n",
       "2            mir NUMBER              mir number                      uplc_ms   \n",
       "3   NUMBER respectively         number patients                 ras_effector   \n",
       "4          brucella spp              dif number               atp_hydrolysis   \n",
       "5            lactis ssp               number il              body_collection   \n",
       "6          NUMBER nests          cremoris sk110          signal_transduction   \n",
       "7     calyx persistence              bodipy dif                cadherins_me1   \n",
       "8        radix paeoniae               number mg              oral_epithelium   \n",
       "9            bodipy dif         patients number  indirect_immunofluorescence   \n",
       "10         NUMBER years       alpha glucosidase            calyx_persistence   \n",
       "11    mixed populations  significant difference               fallopian_tube   \n",
       "12           dif NUMBER          caspase number       controlled_anaesthesia   \n",
       "13       NUMBER samples            number years                   display_rt   \n",
       "14          lactic acid          number degrees                   ki67_index   \n",
       "15       NUMBER degrees             lactic acid                 l_lactis_ssp   \n",
       "16      november NUMBER     number respectively                  cd8_cd28_ts   \n",
       "17        NUMBER months              bcl number               erector_spinae   \n",
       "18          year NUMBER              frk number                        egf_r   \n",
       "19      pha stimulation            beta catenin           articles_retrieved   \n",
       "\n",
       "   Variational KL(tilda, ngram)  \n",
       "0               interfering_rna  \n",
       "1                radix_paeoniae  \n",
       "2                repeat_alleles  \n",
       "3               necrosis_factor  \n",
       "4             sister_chromatids  \n",
       "5             myb_transcription  \n",
       "6               body_collection  \n",
       "7                  ras_effector  \n",
       "8          coagulation_function  \n",
       "9                  target_sites  \n",
       "10           flanking_sequences  \n",
       "11          industrial_interest  \n",
       "12       controlled_anaesthesia  \n",
       "13            virulence_markers  \n",
       "14          signal_transduction  \n",
       "15               md_simulations  \n",
       "16                 mature_forms  \n",
       "17             abandoned_mining  \n",
       "18                   mv_pchlide  \n",
       "19       salmonella_typhimurium  "
      ]
     },
     "execution_count": 161,
     "metadata": {},
     "output_type": "execute_result"
    }
   ],
   "source": [
    "pd.DataFrame(data)"
   ]
  }
 ],
 "metadata": {
  "kernelspec": {
   "display_name": "Python 3",
   "language": "python",
   "name": "python3"
  },
  "language_info": {
   "codemirror_mode": {
    "name": "ipython",
    "version": 3
   },
   "file_extension": ".py",
   "mimetype": "text/x-python",
   "name": "python",
   "nbconvert_exporter": "python",
   "pygments_lexer": "ipython3",
   "version": "3.6.2"
  }
 },
 "nbformat": 4,
 "nbformat_minor": 1
}
