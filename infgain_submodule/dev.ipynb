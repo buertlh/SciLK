{
 "cells": [
  {
   "cell_type": "code",
   "execution_count": 1,
   "metadata": {
    "collapsed": true
   },
   "outputs": [],
   "source": [
    "import collections\n",
    "import typing\n",
    "import numpy as np\n",
    "import tqdm\n",
    "import re\n",
    "import nltk\n",
    "\n",
    "import matplotlib.pyplot as plt\n",
    "%matplotlib inline"
   ]
  },
  {
   "cell_type": "code",
   "execution_count": 2,
   "metadata": {
    "collapsed": true
   },
   "outputs": [],
   "source": [
    "NUMBER_TOKEN = 'NUMBER'\n",
    "NGRAM_SEP = '_'\n",
    "TILDA_SEP = '~'\n",
    "UNK_TOKEN = 'UNK'"
   ]
  },
  {
   "cell_type": "code",
   "execution_count": 3,
   "metadata": {
    "collapsed": true
   },
   "outputs": [],
   "source": [
    "en_stopwords = nltk.corpus.stopwords.words('english')"
   ]
  },
  {
   "cell_type": "code",
   "execution_count": 4,
   "metadata": {},
   "outputs": [
    {
     "data": {
      "text/plain": [
       "2940422"
      ]
     },
     "execution_count": 4,
     "metadata": {},
     "output_type": "execute_result"
    }
   ],
   "source": [
    "# 1. Read text\n",
    "\n",
    "with open('data/text_small.txt', 'r') as f:\n",
    "    raw_data = f.read()\n",
    "    # Get rid of underscores and tildas\n",
    "    raw_data = raw_data.replace('_', ' ')\n",
    "    raw_data = raw_data.replace('~', ' ')\n",
    "\n",
    "len(raw_data)"
   ]
  },
  {
   "cell_type": "code",
   "execution_count": 5,
   "metadata": {},
   "outputs": [
    {
     "data": {
      "text/plain": [
       "['BACKGROUND: Rivaroxaban is currently used to prevent stroke in patients with atrial fibrillation.',\n",
       " 'Measuring coagulation function may help clinicians to understand the effects of this drug and the associated risk of bleeding.']"
      ]
     },
     "execution_count": 5,
     "metadata": {},
     "output_type": "execute_result"
    }
   ],
   "source": [
    "# tmp = raw_data[:2000]\n",
    "tmp = raw_data\n",
    "tmp_sent = nltk.tokenize.sent_tokenize(tmp)\n",
    "tmp_sent[:2]"
   ]
  },
  {
   "cell_type": "code",
   "execution_count": 6,
   "metadata": {
    "scrolled": true
   },
   "outputs": [
    {
     "data": {
      "text/plain": [
       "'a a'"
      ]
     },
     "execution_count": 6,
     "metadata": {},
     "output_type": "execute_result"
    }
   ],
   "source": [
    "'kek'.replace('e', ' ').replace('k', 'a')"
   ]
  },
  {
   "cell_type": "code",
   "execution_count": 7,
   "metadata": {
    "collapsed": true
   },
   "outputs": [],
   "source": [
    "def regexp_word_tokenize(string: str) -> list:\n",
    "    # FIX: it doesn't split by underscore!!\n",
    "    rgx = re.compile(\"([\\w]*\\w)\")\n",
    "    return rgx.findall(string)\n",
    "\n",
    "\n",
    "def merge_numbers(words: list) -> list:\n",
    "    def startswith_digit(string: str) -> bool:\n",
    "        return string[0].isdigit()\n",
    " \n",
    "    ans = []\n",
    "    i = 0\n",
    "    while i < len(words):\n",
    "        j = 0\n",
    "        while i + j < len(words) and startswith_digit(words[i + j]):\n",
    "            j += 1\n",
    "        if i + j > 1 and startswith_digit(words[i + j - 1]):\n",
    "            ans.append(NUMBER_TOKEN)\n",
    "        if i + j < len(words):\n",
    "            ans.append(words[i + j])\n",
    "        i += j + 1\n",
    "    return ans\n",
    "\n",
    "\n",
    "def cool_tokenize(string: str) -> list:\n",
    "    \"\"\"\n",
    "    Tokenize and replace numbers with `NUMBER_TOKEN`.\n",
    "    \"\"\"\n",
    "    string = string.lower()\n",
    "    tkzd = regexp_word_tokenize(string)\n",
    "    return merge_numbers(tkzd)"
   ]
  },
  {
   "cell_type": "code",
   "execution_count": 8,
   "metadata": {
    "scrolled": true
   },
   "outputs": [
    {
     "data": {
      "text/plain": [
       "[['background',\n",
       "  'rivaroxaban',\n",
       "  'is',\n",
       "  'currently',\n",
       "  'used',\n",
       "  'to',\n",
       "  'prevent',\n",
       "  'stroke',\n",
       "  'in',\n",
       "  'patients',\n",
       "  'with',\n",
       "  'atrial',\n",
       "  'fibrillation'],\n",
       " ['measuring',\n",
       "  'coagulation',\n",
       "  'function',\n",
       "  'may',\n",
       "  'help',\n",
       "  'clinicians',\n",
       "  'to',\n",
       "  'understand',\n",
       "  'the',\n",
       "  'effects',\n",
       "  'of',\n",
       "  'this',\n",
       "  'drug',\n",
       "  'and',\n",
       "  'the',\n",
       "  'associated',\n",
       "  'risk',\n",
       "  'of',\n",
       "  'bleeding']]"
      ]
     },
     "execution_count": 8,
     "metadata": {},
     "output_type": "execute_result"
    }
   ],
   "source": [
    "# 2. Tokenize each of sentences\n",
    "\n",
    "tmp_sent_tkzd = list(map(lambda x: cool_tokenize(x), tmp_sent))\n",
    "tmp_sent_tkzd = list(filter(lambda x: len(x), tmp_sent_tkzd))\n",
    "tmp_sent_tkzd[:2]"
   ]
  },
  {
   "cell_type": "code",
   "execution_count": 9,
   "metadata": {
    "collapsed": true
   },
   "outputs": [],
   "source": [
    "def make_ngrams(words: list, upto=2) -> list:\n",
    "    if len(words) > 1:\n",
    "        res = []\n",
    "        for i in range(1, upto + 1):\n",
    "            res.extend(nltk.ngrams(words, i))\n",
    "        return res\n",
    "    else:\n",
    "        return [tuple(words)]"
   ]
  },
  {
   "cell_type": "code",
   "execution_count": 10,
   "metadata": {},
   "outputs": [
    {
     "data": {
      "text/plain": [
       "[[('background',),\n",
       "  ('rivaroxaban',),\n",
       "  ('is',),\n",
       "  ('currently',),\n",
       "  ('used',),\n",
       "  ('to',),\n",
       "  ('prevent',),\n",
       "  ('stroke',),\n",
       "  ('in',),\n",
       "  ('patients',),\n",
       "  ('with',),\n",
       "  ('atrial',),\n",
       "  ('fibrillation',),\n",
       "  ('background', 'rivaroxaban'),\n",
       "  ('rivaroxaban', 'is'),\n",
       "  ('is', 'currently'),\n",
       "  ('currently', 'used'),\n",
       "  ('used', 'to'),\n",
       "  ('to', 'prevent'),\n",
       "  ('prevent', 'stroke'),\n",
       "  ('stroke', 'in'),\n",
       "  ('in', 'patients'),\n",
       "  ('patients', 'with'),\n",
       "  ('with', 'atrial'),\n",
       "  ('atrial', 'fibrillation'),\n",
       "  ('background', 'rivaroxaban', 'is'),\n",
       "  ('rivaroxaban', 'is', 'currently'),\n",
       "  ('is', 'currently', 'used'),\n",
       "  ('currently', 'used', 'to'),\n",
       "  ('used', 'to', 'prevent'),\n",
       "  ('to', 'prevent', 'stroke'),\n",
       "  ('prevent', 'stroke', 'in'),\n",
       "  ('stroke', 'in', 'patients'),\n",
       "  ('in', 'patients', 'with'),\n",
       "  ('patients', 'with', 'atrial'),\n",
       "  ('with', 'atrial', 'fibrillation')]]"
      ]
     },
     "execution_count": 10,
     "metadata": {},
     "output_type": "execute_result"
    }
   ],
   "source": [
    "# 3. Get ngrams for each of sentences\n",
    "\n",
    "tmp_ngrams = list(map(lambda x: make_ngrams(x, 3), tmp_sent_tkzd))\n",
    "tmp_ngrams[:1]"
   ]
  },
  {
   "cell_type": "code",
   "execution_count": 11,
   "metadata": {
    "collapsed": true
   },
   "outputs": [],
   "source": [
    "def contains_stopword(ngram: tuple, stopwords=en_stopwords) -> bool:\n",
    "    list_of_bool = list(map(lambda x: x in stopwords, ngram))\n",
    "    return any(list_of_bool)\n",
    "\n",
    "def remove_bad_ngrams(ngrams: list) -> list:\n",
    "    return list(filter(lambda x: contains_stopword(x) == False, ngrams))"
   ]
  },
  {
   "cell_type": "code",
   "execution_count": 12,
   "metadata": {
    "collapsed": true
   },
   "outputs": [],
   "source": [
    "# 4. Remove ngrams containing stopwords\n",
    "\n",
    "# tmp_ngrams_clean = list(map(lambda x: remove_bad_ngrams(x), tmp_ngrams))\n",
    "tmp_ngrams_clean = tmp_ngrams"
   ]
  },
  {
   "cell_type": "code",
   "execution_count": 13,
   "metadata": {},
   "outputs": [
    {
     "data": {
      "text/plain": [
       "[('background',),\n",
       " ('rivaroxaban',),\n",
       " ('is',),\n",
       " ('currently',),\n",
       " ('used',),\n",
       " ('to',),\n",
       " ('prevent',),\n",
       " ('stroke',),\n",
       " ('in',),\n",
       " ('patients',),\n",
       " ('with',),\n",
       " ('atrial',),\n",
       " ('fibrillation',),\n",
       " ('background', 'rivaroxaban'),\n",
       " ('rivaroxaban', 'is'),\n",
       " ('is', 'currently'),\n",
       " ('currently', 'used'),\n",
       " ('used', 'to'),\n",
       " ('to', 'prevent'),\n",
       " ('prevent', 'stroke'),\n",
       " ('stroke', 'in'),\n",
       " ('in', 'patients'),\n",
       " ('patients', 'with'),\n",
       " ('with', 'atrial'),\n",
       " ('atrial', 'fibrillation'),\n",
       " ('background', 'rivaroxaban', 'is'),\n",
       " ('rivaroxaban', 'is', 'currently'),\n",
       " ('is', 'currently', 'used'),\n",
       " ('currently', 'used', 'to'),\n",
       " ('used', 'to', 'prevent'),\n",
       " ('to', 'prevent', 'stroke'),\n",
       " ('prevent', 'stroke', 'in'),\n",
       " ('stroke', 'in', 'patients'),\n",
       " ('in', 'patients', 'with'),\n",
       " ('patients', 'with', 'atrial'),\n",
       " ('with', 'atrial', 'fibrillation')]"
      ]
     },
     "execution_count": 13,
     "metadata": {},
     "output_type": "execute_result"
    }
   ],
   "source": [
    "tmp_ngrams_clean[0]"
   ]
  },
  {
   "cell_type": "code",
   "execution_count": 14,
   "metadata": {
    "collapsed": true
   },
   "outputs": [],
   "source": [
    "def get_unigrams(ngrams: list) -> list:\n",
    "    unigram_tuples = list(filter(lambda x: len(x) == 1, ngrams))\n",
    "    unigrams = list(map(lambda x: x[0], unigram_tuples))\n",
    "    return unigrams\n",
    "\n",
    "def make_sentence(ngrams: list):\n",
    "    unigrams = get_unigrams(ngrams)\n",
    "    return ' '.join(unigrams)"
   ]
  },
  {
   "cell_type": "code",
   "execution_count": 15,
   "metadata": {},
   "outputs": [
    {
     "data": {
      "text/plain": [
       "['background rivaroxaban is currently used to prevent stroke in patients with atrial fibrillation',\n",
       " 'measuring coagulation function may help clinicians to understand the effects of this drug and the associated risk of bleeding']"
      ]
     },
     "execution_count": 15,
     "metadata": {},
     "output_type": "execute_result"
    }
   ],
   "source": [
    "# 5. Make sentences\n",
    "\n",
    "tmp_sent_clean = list(map(lambda x: make_sentence(x), tmp_ngrams_clean))\n",
    "tmp_sent_clean[:2]"
   ]
  },
  {
   "cell_type": "code",
   "execution_count": 16,
   "metadata": {
    "collapsed": true
   },
   "outputs": [],
   "source": [
    "import itertools\n",
    "from collections import Counter"
   ]
  },
  {
   "cell_type": "code",
   "execution_count": 17,
   "metadata": {
    "collapsed": true
   },
   "outputs": [],
   "source": [
    "def make_dict(ngrams: list, threshold=3) -> dict:\n",
    "    def ngrams_to_str(ngrams: list) -> list:\n",
    "        return list(map(lambda x: NGRAM_SEP.join(x), ngrams))\n",
    "\n",
    "    def merge_list(ngrams_list: list) -> list:\n",
    "        return list(itertools.chain.from_iterable(ngrams_list))\n",
    "\n",
    "\n",
    "    cntr = Counter(ngrams_to_str(merge_list(ngrams)))\n",
    "    cntr = list(filter(lambda x: x[1] > threshold, cntr.items()))\n",
    "    \n",
    "    dictionary = {UNK_TOKEN: 0}\n",
    "    for item, _ in cntr:\n",
    "        dictionary[item] = len(dictionary)\n",
    "        \n",
    "    return dictionary"
   ]
  },
  {
   "cell_type": "code",
   "execution_count": 18,
   "metadata": {
    "collapsed": true
   },
   "outputs": [],
   "source": [
    "# 6. Building dictionary\n",
    "\n",
    "dictionary = make_dict(tmp_ngrams_clean)\n",
    "reversed_dictionary = dict(zip(dictionary.values(), dictionary.keys()))"
   ]
  },
  {
   "cell_type": "code",
   "execution_count": 19,
   "metadata": {
    "collapsed": true
   },
   "outputs": [],
   "source": [
    "def ngrams_from_dict(dictionary: dict) -> list:\n",
    "    return list(filter(lambda x: NGRAM_SEP in x, dictionary.keys()))\n",
    "\n",
    "def tildas_from_dict(dictionary: dict) -> list:\n",
    "    return list(filter(lambda x: TILDA_SEP in x, dictionary.keys()))\n",
    "\n",
    "def split_ngrams(ngrams: list) -> list:\n",
    "    return list(map(lambda x: x.split(NGRAM_SEP), ngrams))\n",
    "\n",
    "def sort_ngrams(ngrams: list) -> list:\n",
    "    return list(map(lambda x: sorted(x), ngrams))\n",
    "\n",
    "def make_tilda_tokens(ngrams: list) -> list:\n",
    "    return list(map(lambda x: TILDA_SEP.join(x), ngrams))\n",
    "\n",
    "def unique_tilda_tokens(dictionary: dict) -> list:\n",
    "    return list(set(make_tilda_tokens(sort_ngrams(split_ngrams(ngrams_from_dict(dictionary))))))"
   ]
  },
  {
   "cell_type": "code",
   "execution_count": 20,
   "metadata": {
    "collapsed": true
   },
   "outputs": [],
   "source": [
    "def make_tilda_tokens(dictionary: dict) -> list:\n",
    "    \"\"\"\n",
    "    Convert ngrams from `dictionary` into tilda tokens.\n",
    "    :param dictionary:\n",
    "    :return:\n",
    "    \"\"\"\n",
    "    def to_tilda_tokens(ngrams: list) -> list:\n",
    "        \"\"\"\n",
    "        >>> ngrams = [['atrial', 'fibrillation'], ['help', 'may']]\n",
    "        >>> to_tilda_tokens(ngrams) == ['atrial~fibrillation', 'help~may']\n",
    "        True\n",
    "        \"\"\"\n",
    "        return list(map(lambda x: TILDA_SEP.join(x), ngrams))\n",
    "\n",
    "    def sort_ngrams(ngrams: list) -> list:\n",
    "        \"\"\"\n",
    "        >>> ngrams = [['atrial', 'fibrillation'], ['may', 'help']]\n",
    "        >>> sort_ngrams(ngrams) == [['atrial', 'fibrillation'], ['help', 'may']]\n",
    "        True\n",
    "        \"\"\"\n",
    "        return list(map(lambda x: sorted(x), ngrams))\n",
    "\n",
    "    def split_ngrams(ngrams: list) -> list:\n",
    "        \"\"\"\n",
    "        >>> ngrams = ['currently_used', 'atrial_fibrillation', 'may_help']\n",
    "        >>> split_ngrams(ngrams) == [['currently', 'used'], ['atrial', 'fibrillation'], ['may', 'help']]\n",
    "        True\n",
    "        \"\"\"\n",
    "        return list(map(lambda x: x.split(NGRAM_SEP), ngrams))\n",
    "\n",
    "    return list(set(to_tilda_tokens(sort_ngrams(split_ngrams(ngrams_from_dict(dictionary))))))"
   ]
  },
  {
   "cell_type": "code",
   "execution_count": 21,
   "metadata": {
    "collapsed": true
   },
   "outputs": [],
   "source": [
    "# 7. Extend dictionary with tilda tokens\n",
    "\n",
    "def make_dict(ngrams: list, threshold=3) -> tuple:\n",
    "    \"\"\"\n",
    "    :param ngrams: list of lists of ngram tuples\n",
    "    :param threshold: min frequency of token\n",
    "    :return: `dictionary` {token: id, ...} and `reversed_dictionary` {id: token, ...}\n",
    "    \"\"\"\n",
    "    def ngrams_to_str(ngrams: list) -> list:\n",
    "        \"\"\"\n",
    "        >>> ngrams = [('used',),('background', 'rivaroxaban')]\n",
    "        >>> ngrams_to_str(ngrams) == ['used', 'background_rivaroxaban']\n",
    "        True\n",
    "        \"\"\"\n",
    "        return list(map(lambda x: NGRAM_SEP.join(x), ngrams))\n",
    "\n",
    "    def merge_list(ngrams_list: list) -> list:\n",
    "        \"\"\"\n",
    "        >>> merge_list([[1,2,3], [4]]) == [1, 2, 3, 4]\n",
    "        True\n",
    "        \"\"\"\n",
    "        return list(itertools.chain.from_iterable(ngrams_list))\n",
    "\n",
    "    cntr = collections.Counter()\n",
    "    cntr.update(ngrams_to_str(merge_list(ngrams)))\n",
    "    cntr = list(filter(lambda x: x[1] > threshold, cntr.items()))\n",
    "\n",
    "    dictionary = {UNK_TOKEN: 0}\n",
    "    for item, _ in cntr:\n",
    "        dictionary[item] = len(dictionary)\n",
    "\n",
    "    def make_tilda_tokens(dictionary: dict) -> list:\n",
    "        \"\"\"\n",
    "        Convert ngrams from `dictionary` into tilda tokens.\n",
    "        :param dictionary:\n",
    "        :return:\n",
    "        \"\"\"\n",
    "        def to_tilda_tokens(ngrams: list) -> list:\n",
    "            \"\"\"\n",
    "            >>> ngrams = [['atrial', 'fibrillation'], ['help', 'may']]\n",
    "            >>> to_tilda_tokens(ngrams) == ['atrial~fibrillation', 'help~may']\n",
    "            True\n",
    "            \"\"\"\n",
    "            return list(map(lambda x: TILDA_SEP.join(x), ngrams))\n",
    "\n",
    "        def sort_ngrams(ngrams: list) -> list:\n",
    "            \"\"\"\n",
    "            >>> ngrams = [['atrial', 'fibrillation'], ['may', 'help']]\n",
    "            >>> sort_ngrams(ngrams) == [['atrial', 'fibrillation'], ['help', 'may']]\n",
    "            True\n",
    "            \"\"\"\n",
    "            return list(map(lambda x: sorted(x), ngrams))\n",
    "\n",
    "        def split_ngrams(ngrams: list) -> list:\n",
    "            \"\"\"\n",
    "            >>> ngrams = ['currently_used', 'atrial_fibrillation', 'may_help']\n",
    "            >>> split_ngrams(ngrams) == [['currently', 'used'], ['atrial', 'fibrillation'], ['may', 'help']]\n",
    "            True\n",
    "            \"\"\"\n",
    "            return list(map(lambda x: x.split(NGRAM_SEP), ngrams))\n",
    "\n",
    "        return list(set(to_tilda_tokens(sort_ngrams(split_ngrams(ngrams_from_dict(dictionary))))))\n",
    "\n",
    "    tilda_tokens = make_tilda_tokens(dictionary)\n",
    "\n",
    "    for item in tilda_tokens:\n",
    "        dictionary[item] = len(dictionary)\n",
    "\n",
    "    reversed_dictionary = dict(zip(dictionary.values(), dictionary.keys()))\n",
    "\n",
    "    return dictionary, reversed_dictionary"
   ]
  },
  {
   "cell_type": "code",
   "execution_count": 22,
   "metadata": {
    "collapsed": true
   },
   "outputs": [],
   "source": [
    "dictionary, reversed_dictionary = make_dict(tmp_ngrams_clean)"
   ]
  },
  {
   "cell_type": "code",
   "execution_count": 23,
   "metadata": {
    "collapsed": true
   },
   "outputs": [],
   "source": [
    "def replace_unk(string: str, dictionary=dictionary) -> str:\n",
    "    list_unk = list(map(lambda x: x if x in dictionary else UNK_TOKEN, string.split()))\n",
    "    return ' '.join(list_unk)\n",
    "\n",
    "def tokenize_ids(string: str, dictionary=dictionary) -> list:\n",
    "    return list(map(lambda x: dictionary[x] if x in dictionary else dictionary[UNK_TOKEN], string.split()))"
   ]
  },
  {
   "cell_type": "code",
   "execution_count": 24,
   "metadata": {},
   "outputs": [
    {
     "data": {
      "text/plain": [
       "'to amino'"
      ]
     },
     "execution_count": 24,
     "metadata": {},
     "output_type": "execute_result"
    }
   ],
   "source": [
    "replace_unk('to amino')"
   ]
  },
  {
   "cell_type": "code",
   "execution_count": 26,
   "metadata": {
    "collapsed": true
   },
   "outputs": [],
   "source": [
    "# 8. Replace out-of-vocabulary words with `UNK_TOKEN`\n",
    "\n",
    "tmp_sent_unk = list(map(lambda x: replace_unk(x), tmp_sent_clean))\n",
    "tmp_sent_unk = list(filter(lambda x: len(x) > 0, tmp_sent_unk))"
   ]
  },
  {
   "cell_type": "code",
   "execution_count": 27,
   "metadata": {
    "collapsed": true
   },
   "outputs": [],
   "source": [
    "def indices_for_ngram(ngram: str) -> tuple:\n",
    "    indices = tuple(list(map(lambda x: dictionary[x], ngram.split(NGRAM_SEP))))\n",
    "    return tuple([tuple(indices), dictionary[ngram]])\n",
    "\n",
    "def indices_for_tilda(ngram: str) -> tuple:\n",
    "    indices = sorted(list(map(lambda x: dictionary[x], ngram.split(TILDA_SEP))))\n",
    "    indices = tuple(indices)\n",
    "    return tuple([tuple(sorted(indices)), dictionary[ngram]])"
   ]
  },
  {
   "cell_type": "code",
   "execution_count": 28,
   "metadata": {
    "collapsed": true
   },
   "outputs": [],
   "source": [
    "def ngram_id(ngram_tuple: tuple) -> int:\n",
    "    if ngram_tuple in dict_ngram_id_by_tuple:\n",
    "        return dict_ngram_id_by_tuple[ngram_tuple]\n",
    "    else:\n",
    "        return 0\n",
    "    \n",
    "def tilda_id(tilda_tuple: tuple) -> int:\n",
    "    tilda_tuple = tuple(sorted(tilda_tuple))\n",
    "    if tilda_tuple in dict_tilda_id_by_tuple:\n",
    "        return dict_tilda_id_by_tuple[tilda_tuple]\n",
    "    else:\n",
    "        return 0"
   ]
  },
  {
   "cell_type": "code",
   "execution_count": 29,
   "metadata": {
    "collapsed": true
   },
   "outputs": [],
   "source": [
    "def make_tupled_dicts(dictionary: dict) -> tuple:\n",
    "    \"\"\"\n",
    "    :param dictionary:\n",
    "    :return: `dict_ngram_id_by_tuple`, `dict_tilda_id_by_tuple`\n",
    "    \"\"\"\n",
    "    dict_ngram_id_by_tuple = {}\n",
    "    dict_tilda_id_by_tuple = {}\n",
    "\n",
    "    # ngrams\n",
    "    for ngram in ngrams_from_dict(dictionary):\n",
    "        tmp = indices_for_ngram(ngram)\n",
    "        words_tup, ngram_id = tmp\n",
    "        dict_ngram_id_by_tuple[words_tup] = ngram_id\n",
    "\n",
    "    # tildas\n",
    "    for tilda in tildas_from_dict(dictionary):\n",
    "        tmp = indices_for_tilda(tilda)\n",
    "        words_tup, tilda_id = tmp\n",
    "        dict_tilda_id_by_tuple[words_tup] = tilda_id\n",
    "\n",
    "    return dict_ngram_id_by_tuple, dict_tilda_id_by_tuple"
   ]
  },
  {
   "cell_type": "code",
   "execution_count": 30,
   "metadata": {
    "collapsed": true
   },
   "outputs": [],
   "source": [
    "dict_ngram_id_by_tuple, dict_tilda_id_by_tuple = make_tupled_dicts(dictionary)"
   ]
  },
  {
   "cell_type": "code",
   "execution_count": 31,
   "metadata": {},
   "outputs": [
    {
     "data": {
      "text/plain": [
       "((3, 4), 14)"
      ]
     },
     "execution_count": 31,
     "metadata": {},
     "output_type": "execute_result"
    }
   ],
   "source": [
    "indices_for_ngram(ngrams_from_dict(dictionary)[0])"
   ]
  },
  {
   "cell_type": "code",
   "execution_count": 33,
   "metadata": {},
   "outputs": [
    {
     "data": {
      "text/plain": [
       "('is', 'currently', 'is_currently')"
      ]
     },
     "execution_count": 33,
     "metadata": {},
     "output_type": "execute_result"
    }
   ],
   "source": [
    "reversed_dictionary[3], reversed_dictionary[4], reversed_dictionary[14]"
   ]
  },
  {
   "cell_type": "code",
   "execution_count": 34,
   "metadata": {},
   "outputs": [
    {
     "data": {
      "text/plain": [
       "(((4, 5), 33277), ((4, 5), 15))"
      ]
     },
     "execution_count": 34,
     "metadata": {},
     "output_type": "execute_result"
    }
   ],
   "source": [
    "indices_for_tilda('currently~used'), indices_for_ngram('currently_used')"
   ]
  },
  {
   "cell_type": "code",
   "execution_count": 35,
   "metadata": {},
   "outputs": [
    {
     "data": {
      "text/plain": [
       "('neoplasia', 'spectrum', 'leukemia')"
      ]
     },
     "execution_count": 35,
     "metadata": {},
     "output_type": "execute_result"
    }
   ],
   "source": [
    "reversed_dictionary[1506], reversed_dictionary[1383], reversed_dictionary[6770]"
   ]
  },
  {
   "cell_type": "code",
   "execution_count": 37,
   "metadata": {
    "collapsed": true
   },
   "outputs": [],
   "source": [
    "# Try to train word2gauss.\n",
    "\n",
    "from word2gauss import GaussianEmbedding, iter_pairs\n",
    "from word2gauss.words import Vocabulary\n",
    "\n",
    "vocab_gauss = Vocabulary(dictionary)\n",
    "embed = GaussianEmbedding(len(dictionary), 100,\n",
    "                          covariance_type='diagonal',\n",
    "                          energy_type='KL')"
   ]
  },
  {
   "cell_type": "code",
   "execution_count": 39,
   "metadata": {
    "collapsed": true
   },
   "outputs": [],
   "source": [
    "# tmp_sent_unk = sorted()\n",
    "tmp_sent_unk = sorted(tmp_sent_unk, key=lambda x: len(x.split()))"
   ]
  },
  {
   "cell_type": "code",
   "execution_count": 51,
   "metadata": {},
   "outputs": [
    {
     "data": {
      "text/plain": [
       "'the suitability of type i collagen as a carrier matrix provides ample opportunity for tissue engineered approaches to further facilitate bony defect healing'"
      ]
     },
     "execution_count": 51,
     "metadata": {},
     "output_type": "execute_result"
    }
   ],
   "source": [
    "tmp_sent_unk[10000]"
   ]
  },
  {
   "cell_type": "code",
   "execution_count": 52,
   "metadata": {},
   "outputs": [
    {
     "name": "stdout",
     "output_type": "stream",
     "text": [
      "CPU times: user 1min 32s, sys: 2.99 s, total: 1min 35s\n",
      "Wall time: 52.5 s\n"
     ]
    }
   ],
   "source": [
    "%%time\n",
    "embed.train(\n",
    "    iter_pairs(tmp_sent_unk[60:10000], vocab_gauss, ngram_id,\n",
    "               tilda_id, batch_size=10, nsamples=2,\n",
    "               window=5, n=3),\n",
    "    n_workers=8)"
   ]
  },
  {
   "cell_type": "code",
   "execution_count": 91,
   "metadata": {
    "collapsed": true,
    "scrolled": true
   },
   "outputs": [],
   "source": [
    "# list(filter(lambda x: x.count(NGRAM_SEP) == 2, get_ngrams_from_dict(dictionary)))"
   ]
  },
  {
   "cell_type": "code",
   "execution_count": 53,
   "metadata": {
    "collapsed": true
   },
   "outputs": [],
   "source": [
    "def nearest(token, num=10):\n",
    "    return [x[\"word\"] for x in embed.nearest_neighbors([(token,)], vocab=vocab_gauss, num=num)]"
   ]
  },
  {
   "cell_type": "code",
   "execution_count": 54,
   "metadata": {},
   "outputs": [
    {
     "data": {
      "text/plain": [
       "['normal_breast_tissue',\n",
       " 'heterogeneity~of',\n",
       " 'to~tools',\n",
       " 'nps',\n",
       " 'amyloid~beta~deposits',\n",
       " 'according~to',\n",
       " 'intraocular',\n",
       " 'roles_for',\n",
       " 'membrane_protein',\n",
       " 'migration_and']"
      ]
     },
     "execution_count": 54,
     "metadata": {},
     "output_type": "execute_result"
    }
   ],
   "source": [
    "nearest('normal_breast_tissue')"
   ]
  },
  {
   "cell_type": "code",
   "execution_count": 80,
   "metadata": {},
   "outputs": [
    {
     "data": {
      "text/plain": [
       "['radix_paeoniae_rubra',\n",
       " 'suspensions',\n",
       " 'endocycling',\n",
       " 'binuclear_complex',\n",
       " 'dcr',\n",
       " 'powered',\n",
       " 'cf3_NUMBER',\n",
       " 'gene~mthfr',\n",
       " 'co2',\n",
       " 'causative']"
      ]
     },
     "execution_count": 80,
     "metadata": {},
     "output_type": "execute_result"
    }
   ],
   "source": [
    "nearest('radix_paeoniae_rubra')"
   ]
  },
  {
   "cell_type": "code",
   "execution_count": 55,
   "metadata": {},
   "outputs": [
    {
     "data": {
      "text/plain": [
       "['amino_acid',\n",
       " 'in_individuals',\n",
       " 'dimensional~three',\n",
       " 'door~to',\n",
       " 'therapy_of',\n",
       " 'adhere~to',\n",
       " 'may~system',\n",
       " 'epsilon',\n",
       " 'a~across',\n",
       " 'p~selectin']"
      ]
     },
     "execution_count": 55,
     "metadata": {},
     "output_type": "execute_result"
    }
   ],
   "source": [
    "nearest('amino_acid')"
   ]
  },
  {
   "cell_type": "code",
   "execution_count": 57,
   "metadata": {},
   "outputs": [
    {
     "data": {
      "text/plain": [
       "['rats',\n",
       " 'orally',\n",
       " 'ratio',\n",
       " 'cabg',\n",
       " 'weeks',\n",
       " 'was',\n",
       " 'signaling_pathways_in',\n",
       " 'a',\n",
       " 'sit',\n",
       " 'daily']"
      ]
     },
     "execution_count": 57,
     "metadata": {},
     "output_type": "execute_result"
    }
   ],
   "source": [
    "nearest('rats')"
   ]
  },
  {
   "cell_type": "code",
   "execution_count": 82,
   "metadata": {},
   "outputs": [
    {
     "name": "stdout",
     "output_type": "stream",
     "text": [
      "['male', 'homozygous', 'iqr', 'NUMBER~age', 'NUMBER~cohort', 'experienced', 'female', 'odds', 'acute', 'underwent', 'abmd', 'bcva', 'infarction', 'mean', 'NUMBER~risk', 'boys', 'summary', 'surgery', 'NUMBER~confidence', 'npdr']\n"
     ]
    }
   ],
   "source": [
    "print([x[\"word\"] for x in embed.nearest_neighbors([('male',)], vocab=vocab_gauss, num=20)])"
   ]
  },
  {
   "cell_type": "code",
   "execution_count": 93,
   "metadata": {},
   "outputs": [
    {
     "name": "stdout",
     "output_type": "stream",
     "text": [
      "['crf01', 'translocated', 'findings_suggest', 'mediators', 'choroid', 'data_reveal', 'hematologic', 'oocytes', 'wky', 'results_suggest', 'retrieved', 'outcomes_including', 'theoretical', 'caudate', 'extreme', 'elevated~serum', 'cyclobutane', 'lung_disease', 'dfs', 'mediated_induction']\n"
     ]
    }
   ],
   "source": [
    "print([x[\"word\"] for x in embed.nearest_neighbors([('crf01',)], vocab=vocab_gauss, num=20)])"
   ]
  },
  {
   "cell_type": "code",
   "execution_count": 97,
   "metadata": {},
   "outputs": [
    {
     "name": "stdout",
     "output_type": "stream",
     "text": [
      "['ae', 'crystal~structures', 'accompanied', 'serotonin_NUMBER', 'cu_ii', 'nmr', 'bioassays', 'phox', 'c_elegans', 'neurotrophic_factor', 'pg_NUMBER', 'mm_hg', 'formers~stone', 'mt', 'vs_placebo', 'rna', 'significantly_enhanced', 'monophosphate', 'NUMBER~gene', 'NUMBER_samples']\n"
     ]
    }
   ],
   "source": [
    "print([x[\"word\"] for x in embed.nearest_neighbors([('ae',)], vocab=vocab_gauss, num=20)])"
   ]
  },
  {
   "cell_type": "code",
   "execution_count": null,
   "metadata": {
    "collapsed": true
   },
   "outputs": [],
   "source": []
  },
  {
   "cell_type": "code",
   "execution_count": null,
   "metadata": {
    "collapsed": true
   },
   "outputs": [],
   "source": []
  },
  {
   "cell_type": "code",
   "execution_count": 81,
   "metadata": {
    "collapsed": true
   },
   "outputs": [],
   "source": [
    "def gaussian_kl(gaus1, gaus2):\n",
    "    ans = (1. / 2.) * \\\n",
    "          (np.trace(np.dot(np.linalg.inv(gaus2['sigma']), gaus1['sigma'])) + \n",
    "           np.dot(gaus2['mu'] - gaus1['mu'], np.dot(np.linalg.inv(gaus2['sigma']), gaus2['mu'] - gaus1['mu'])) - \n",
    "           len(gaus1['mu']) + np.log(np.linalg.det(gaus2['sigma']) / np.linalg.det(gaus1['sigma'])))\n",
    "    return ans"
   ]
  },
  {
   "cell_type": "code",
   "execution_count": 80,
   "metadata": {
    "collapsed": true
   },
   "outputs": [],
   "source": [
    "def calc_kl(bigram):\n",
    "    \"\"\"\n",
    "    Calculate KL-divergence.\n",
    "    :param bigram: string\n",
    "    \"\"\"\n",
    "    def gaus_repr(token):\n",
    "        \"\"\"\n",
    "        Returns\n",
    "        -------\n",
    "        list of mus, list of sigmas\n",
    "        \n",
    "        \"\"\"\n",
    "        if TILDA_SEP in token:\n",
    "            token = token.split(TILDA_SEP)\n",
    "            token = sorted(token)\n",
    "            token = TILDA_SEP.join(token)\n",
    "        mu = embed.mu[vocab_gauss.word2id(token)]\n",
    "        sigma = np.diag(embed.sigma[vocab_gauss.word2id(token)]) # Diagonal matrix.\n",
    "        return mu, sigma\n",
    "\n",
    "    # Gaussian representation of `bigram`.\n",
    "    mu_bigram, sigma_bigram = gaus_repr(bigram)\n",
    "    \n",
    "    # Gaussian representation of tilda-token.\n",
    "    tilda = bigram.replace('_', '~')\n",
    "    mu_tilda, sigma_tilda = gaus_repr(tilda)\n",
    "    \n",
    "    gaus_tilda =  {'mu' : mu_tilda,  'sigma' : sigma_tilda}\n",
    "    gaus_bigram = {'mu' : mu_bigram, 'sigma' : sigma_bigram}\n",
    "    \n",
    "    return gaussian_kl(gaus_bigram, gaus_tilda)"
   ]
  },
  {
   "cell_type": "code",
   "execution_count": 59,
   "metadata": {},
   "outputs": [
    {
     "data": {
      "text/plain": [
       "6.038118839263916"
      ]
     },
     "execution_count": 59,
     "metadata": {},
     "output_type": "execute_result"
    }
   ],
   "source": [
    "calc_kl('important_role')"
   ]
  },
  {
   "cell_type": "code",
   "execution_count": 60,
   "metadata": {},
   "outputs": [
    {
     "data": {
      "text/plain": [
       "5.8055644035339355"
      ]
     },
     "execution_count": 60,
     "metadata": {},
     "output_type": "execute_result"
    }
   ],
   "source": [
    "calc_kl('amino_acid')"
   ]
  },
  {
   "cell_type": "code",
   "execution_count": 61,
   "metadata": {},
   "outputs": [
    {
     "data": {
      "text/plain": [
       "5.560778021812439"
      ]
     },
     "execution_count": 61,
     "metadata": {},
     "output_type": "execute_result"
    }
   ],
   "source": [
    "calc_kl('breast_cancer')"
   ]
  },
  {
   "cell_type": "code",
   "execution_count": 62,
   "metadata": {},
   "outputs": [
    {
     "data": {
      "text/plain": [
       "3.8449275493621826"
      ]
     },
     "execution_count": 62,
     "metadata": {},
     "output_type": "execute_result"
    }
   ],
   "source": [
    "calc_kl('of_the')"
   ]
  },
  {
   "cell_type": "code",
   "execution_count": 64,
   "metadata": {},
   "outputs": [
    {
     "data": {
      "text/plain": [
       "5.3782787919044495"
      ]
     },
     "execution_count": 64,
     "metadata": {},
     "output_type": "execute_result"
    }
   ],
   "source": [
    "calc_kl('data_show')"
   ]
  },
  {
   "cell_type": "code",
   "execution_count": 82,
   "metadata": {},
   "outputs": [
    {
     "data": {
      "text/plain": [
       "7.1621488332748413"
      ]
     },
     "execution_count": 82,
     "metadata": {},
     "output_type": "execute_result"
    }
   ],
   "source": [
    "calc_kl('crf01_ae')"
   ]
  },
  {
   "cell_type": "code",
   "execution_count": 83,
   "metadata": {},
   "outputs": [
    {
     "data": {
      "text/plain": [
       "6.3559590578079224"
      ]
     },
     "execution_count": 83,
     "metadata": {},
     "output_type": "execute_result"
    }
   ],
   "source": [
    "calc_kl('radix_paeoniae_rubra')"
   ]
  },
  {
   "cell_type": "code",
   "execution_count": 84,
   "metadata": {},
   "outputs": [
    {
     "data": {
      "text/plain": [
       "6.4489107131958008"
      ]
     },
     "execution_count": 84,
     "metadata": {},
     "output_type": "execute_result"
    }
   ],
   "source": [
    "calc_kl('approximately_NUMBER_million')"
   ]
  },
  {
   "cell_type": "code",
   "execution_count": 85,
   "metadata": {},
   "outputs": [
    {
     "data": {
      "text/plain": [
       "(109352, 100)"
      ]
     },
     "execution_count": 85,
     "metadata": {},
     "output_type": "execute_result"
    }
   ],
   "source": [
    "embed.mu.shape"
   ]
  },
  {
   "cell_type": "code",
   "execution_count": 86,
   "metadata": {},
   "outputs": [
    {
     "data": {
      "text/plain": [
       "54676"
      ]
     },
     "execution_count": 86,
     "metadata": {},
     "output_type": "execute_result"
    }
   ],
   "source": [
    "len(dictionary)"
   ]
  },
  {
   "cell_type": "code",
   "execution_count": 87,
   "metadata": {},
   "outputs": [
    {
     "data": {
      "text/plain": [
       "[<matplotlib.lines.Line2D at 0x112e33cc0>]"
      ]
     },
     "execution_count": 87,
     "metadata": {},
     "output_type": "execute_result"
    },
    {
     "data": {
      "image/png": "[encoded data removed]",
      "text/plain": [
       "<matplotlib.figure.Figure at 0x112e33518>"
      ]
     },
     "metadata": {},
     "output_type": "display_data"
    }
   ],
   "source": [
    "tmpid = 101\n",
    "plt.plot(embed.mu[tmpid])\n",
    "plt.plot(embed.mu[len(dictionary) + tmpid])"
   ]
  },
  {
   "cell_type": "code",
   "execution_count": 89,
   "metadata": {
    "collapsed": true
   },
   "outputs": [],
   "source": [
    "def gaus_repr(token):\n",
    "    \"\"\"\n",
    "    Gaussian representation of token.\n",
    "    :return: mu and sigma\n",
    "    \"\"\"\n",
    "    if TILDA_SEP in token:\n",
    "        token = token.split(TILDA_SEP)\n",
    "        token = sorted(token)\n",
    "        token = TILDA_SEP.join(token)\n",
    "\n",
    "    return (embed.mu[vocab_gauss.word2id(token)],\n",
    "            np.diag(embed.sigma[vocab_gauss.word2id(token)]))  # Diagonal matrix."
   ]
  },
  {
   "cell_type": "code",
   "execution_count": 90,
   "metadata": {
    "collapsed": true
   },
   "outputs": [],
   "source": [
    "def calc_variational_kl(bigram, order=0):\n",
    "    \"\"\"\n",
    "    Calculate KL-divergence of bigram and corresponding mixture.\n",
    "    :param bigram: string\n",
    "    :param order: int\n",
    "        If order is 0, then KL(bigram, mixture) is calculated;\n",
    "        if order is 1, then KL(mixture, bigram) is calculated.\n",
    "    \"\"\"\n",
    "#     word1 = bigram.split('_')[0]\n",
    "#     word2 = bigram.split('_')[1]\n",
    "\n",
    "#     # Gaussian representation of first word in `bigram`.\n",
    "#     mu1, sigma1 = gaus_repr(word1)\n",
    "\n",
    "#     # Gaussian representation of second word in `bigram`.\n",
    "#     mu2, sigma2 = gaus_repr(word2)\n",
    "\n",
    "#     mu_words = np.array([mu1, mu2])\n",
    "#     sigma_words = np.array([np.diag(sigma1), np.diag(sigma2)])\n",
    "\n",
    "    mu_words = []\n",
    "    sigma_words = []\n",
    "    for word in bigram.split('_'):\n",
    "        mu, sigma = gaus_repr(word1)\n",
    "        mu_words.append(mu)\n",
    "        sigma_words.append(np.diag(sigma))\n",
    "    mu_words = np.array(mu_words)\n",
    "    sigma_words = np.array(sigma_words)\n",
    "    \n",
    "    \n",
    "    # Gaussian representation of `bigram`.\n",
    "    mu_bigram, sigma_bigram = gaus_repr(bigram)\n",
    "    mu_bigram = np.array([mu_bigram])\n",
    "    sigma_bigram = np.arrary([sigma_bigram])\n",
    "\n",
    "#     weights_words = [1./2., 1./2.]\n",
    "    weights_words = [1./len(bigram.split('_'))] * len(bigram.split('_'))\n",
    "    weights_bigram = [1.]\n",
    "\n",
    "    def complex_kl(f, g):\n",
    "        ans = 0\n",
    "        for a, pi in enumerate(f['weights']):\n",
    "            sum1 = 0\n",
    "            sum2 = 0\n",
    "\n",
    "            for b, ksi in enumerate(f['weights']):\n",
    "                params_a = {'mu': f['mus'][a], 'sigma': f['sigmas'][a]}\n",
    "                params_b = {'mu': f['mus'][b], 'sigma': f['sigmas'][b]}\n",
    "                sum1 += ksi * np.exp((-1.) * gaussian_kl(params_a, params_b))\n",
    "\n",
    "            for c, omega in enumerate(g['weights']):\n",
    "                params_a = {'mu': f['mus'][a], 'sigma': f['sigmas'][a]}\n",
    "                params_c = {'mu': g['mus'][c], 'sigma': g['sigmas'][c]}\n",
    "                sum2 += omega * np.exp((-1) * gaussian_kl(params_a, params_c))\n",
    "\n",
    "            ans += pi * np.log(sum1 / sum2)\n",
    "\n",
    "        return ans\n",
    "\n",
    "    if order == 0:\n",
    "        g = {'mus': mu_bigram, 'sigmas': sigma_bigram, 'weights': weights_bigram}\n",
    "        f = {'mus': mu_words, 'sigmas': sigma_words, 'weights': weights_words}\n",
    "    elif order == 1:\n",
    "        g = {'mus': mu_words, 'sigmas': sigma_words, 'weights': weights_words}\n",
    "        f = {'mus': mu_bigram, 'sigmas': sigma_bigram, 'weights': weights_bigram}\n",
    "    else:\n",
    "        raise\n",
    "\n",
    "    # KL(g, f)\n",
    "    return complex_kl(g, f)"
   ]
  },
  {
   "cell_type": "code",
   "execution_count": 91,
   "metadata": {
    "collapsed": true
   },
   "outputs": [],
   "source": [
    "def kl(bigram, order=0):\n",
    "    '''\n",
    "    Calculates kl-score of bigram and corresponding tilda-token.\n",
    "    :param bigram: string\n",
    "    :param order: int\n",
    "        If order is 0, then KL(bigram, tilda-token) is calculated;\n",
    "        if order is 1, then KL(tilda-token, bigram) is calculated.\n",
    "    '''\n",
    "    # Gaussian representation of `bigram`.\n",
    "    mu_bigram, sigma_bigram = gaus_repr(bigram)\n",
    "\n",
    "    # Gaussian representation of tilda-token.\n",
    "    tilda = bigram.replace('_', '~')\n",
    "    mu_tilda, sigma_tilda = gaus_repr(tilda)\n",
    "\n",
    "    if order == 0:\n",
    "        gaus1 = {'mu': mu_bigram, 'sigma': sigma_bigram}\n",
    "        gaus2 = {'mu': mu_tilda,  'sigma': sigma_tilda}\n",
    "    elif order == 1:\n",
    "        gaus1 = {'mu': mu_tilda,  'sigma': sigma_tilda}\n",
    "        gaus2 = {'mu': mu_bigram, 'sigma': sigma_bigram}\n",
    "    else:\n",
    "        raise\n",
    "\n",
    "    return gaussian_kl(gaus1, gaus2)\n",
    "\n",
    "def score_ngrams(func_type=0, order=0):\n",
    "    \"\"\"\n",
    "    :param func_type: int\n",
    "        Which function to use to calculate KL-divergence.\n",
    "        If type is 0, then the gaussian KL is used;\n",
    "        if type is 1, then the variational KL is used.\n",
    "    :param order: int\n",
    "        If order is 0, then KL(bigram, token) is calculated;\n",
    "        if order is 1, then KL(token, bigram) is calculated.\n",
    "    :return: List of scored ngrams\n",
    "    \"\"\"\n",
    "    res = {}\n",
    "\n",
    "    func = None\n",
    "\n",
    "    if func_type == 0:\n",
    "        func = kl\n",
    "    elif func_type == 1:\n",
    "        func = calc_variational_kl\n",
    "    else:\n",
    "        raise\n",
    "\n",
    "    for bigram in tqdm.tqdm(ngrams_from_dict(dictionary)):\n",
    "        res[bigram] = func(bigram, order)\n",
    "\n",
    "    return sorted(res.items(), key=lambda x: x[1], reverse=True)"
   ]
  },
  {
   "cell_type": "code",
   "execution_count": 92,
   "metadata": {},
   "outputs": [
    {
     "name": "stderr",
     "output_type": "stream",
     "text": [
      "  0%|          | 0/22918 [00:00<?, ?it/s]\n"
     ]
    },
    {
     "ename": "LinAlgError",
     "evalue": "1-dimensional array given. Array must be at least two-dimensional",
     "output_type": "error",
     "traceback": [
      "\u001b[0;31m---------------------------------------------------------------------------\u001b[0m",
      "\u001b[0;31mLinAlgError\u001b[0m                               Traceback (most recent call last)",
      "\u001b[0;32m<ipython-input-92-8df7f82e2bf3>\u001b[0m in \u001b[0;36m<module>\u001b[0;34m()\u001b[0m\n\u001b[0;32m----> 1\u001b[0;31m \u001b[0mscore_ngrams\u001b[0m\u001b[0;34m(\u001b[0m\u001b[0;36m1\u001b[0m\u001b[0;34m,\u001b[0m\u001b[0;36m1\u001b[0m\u001b[0;34m)\u001b[0m\u001b[0;34m\u001b[0m\u001b[0m\n\u001b[0m",
      "\u001b[0;32m<ipython-input-91-73b30497ef79>\u001b[0m in \u001b[0;36mscore_ngrams\u001b[0;34m(func_type, order)\u001b[0m\n\u001b[1;32m     48\u001b[0m \u001b[0;34m\u001b[0m\u001b[0m\n\u001b[1;32m     49\u001b[0m     \u001b[0;32mfor\u001b[0m \u001b[0mbigram\u001b[0m \u001b[0;32min\u001b[0m \u001b[0mtqdm\u001b[0m\u001b[0;34m.\u001b[0m\u001b[0mtqdm\u001b[0m\u001b[0;34m(\u001b[0m\u001b[0mngrams_from_dict\u001b[0m\u001b[0;34m(\u001b[0m\u001b[0mdictionary\u001b[0m\u001b[0;34m)\u001b[0m\u001b[0;34m)\u001b[0m\u001b[0;34m:\u001b[0m\u001b[0;34m\u001b[0m\u001b[0m\n\u001b[0;32m---> 50\u001b[0;31m         \u001b[0mres\u001b[0m\u001b[0;34m[\u001b[0m\u001b[0mbigram\u001b[0m\u001b[0;34m]\u001b[0m \u001b[0;34m=\u001b[0m \u001b[0mfunc\u001b[0m\u001b[0;34m(\u001b[0m\u001b[0mbigram\u001b[0m\u001b[0;34m,\u001b[0m \u001b[0morder\u001b[0m\u001b[0;34m)\u001b[0m\u001b[0;34m\u001b[0m\u001b[0m\n\u001b[0m\u001b[1;32m     51\u001b[0m \u001b[0;34m\u001b[0m\u001b[0m\n\u001b[1;32m     52\u001b[0m     \u001b[0;32mreturn\u001b[0m \u001b[0msorted\u001b[0m\u001b[0;34m(\u001b[0m\u001b[0mres\u001b[0m\u001b[0;34m.\u001b[0m\u001b[0mitems\u001b[0m\u001b[0;34m(\u001b[0m\u001b[0;34m)\u001b[0m\u001b[0;34m,\u001b[0m \u001b[0mkey\u001b[0m\u001b[0;34m=\u001b[0m\u001b[0;32mlambda\u001b[0m \u001b[0mx\u001b[0m\u001b[0;34m:\u001b[0m \u001b[0mx\u001b[0m\u001b[0;34m[\u001b[0m\u001b[0;36m1\u001b[0m\u001b[0;34m]\u001b[0m\u001b[0;34m,\u001b[0m \u001b[0mreverse\u001b[0m\u001b[0;34m=\u001b[0m\u001b[0;32mTrue\u001b[0m\u001b[0;34m)\u001b[0m\u001b[0;34m\u001b[0m\u001b[0m\n",
      "\u001b[0;32m<ipython-input-90-8496b5e7626a>\u001b[0m in \u001b[0;36mcalc_variational_kl\u001b[0;34m(bigram, order)\u001b[0m\n\u001b[1;32m     55\u001b[0m \u001b[0;34m\u001b[0m\u001b[0m\n\u001b[1;32m     56\u001b[0m     \u001b[0;31m# KL(g, f)\u001b[0m\u001b[0;34m\u001b[0m\u001b[0;34m\u001b[0m\u001b[0m\n\u001b[0;32m---> 57\u001b[0;31m     \u001b[0;32mreturn\u001b[0m \u001b[0mcomplex_kl\u001b[0m\u001b[0;34m(\u001b[0m\u001b[0mg\u001b[0m\u001b[0;34m,\u001b[0m \u001b[0mf\u001b[0m\u001b[0;34m)\u001b[0m\u001b[0;34m\u001b[0m\u001b[0m\n\u001b[0m",
      "\u001b[0;32m<ipython-input-90-8496b5e7626a>\u001b[0m in \u001b[0;36mcomplex_kl\u001b[0;34m(f, g)\u001b[0m\n\u001b[1;32m     34\u001b[0m                 \u001b[0mparams_a\u001b[0m \u001b[0;34m=\u001b[0m \u001b[0;34m{\u001b[0m\u001b[0;34m'mu'\u001b[0m\u001b[0;34m:\u001b[0m \u001b[0mf\u001b[0m\u001b[0;34m[\u001b[0m\u001b[0;34m'mus'\u001b[0m\u001b[0;34m]\u001b[0m\u001b[0;34m[\u001b[0m\u001b[0ma\u001b[0m\u001b[0;34m]\u001b[0m\u001b[0;34m,\u001b[0m \u001b[0;34m'sigma'\u001b[0m\u001b[0;34m:\u001b[0m \u001b[0mf\u001b[0m\u001b[0;34m[\u001b[0m\u001b[0;34m'sigmas'\u001b[0m\u001b[0;34m]\u001b[0m\u001b[0;34m[\u001b[0m\u001b[0ma\u001b[0m\u001b[0;34m]\u001b[0m\u001b[0;34m}\u001b[0m\u001b[0;34m\u001b[0m\u001b[0m\n\u001b[1;32m     35\u001b[0m                 \u001b[0mparams_b\u001b[0m \u001b[0;34m=\u001b[0m \u001b[0;34m{\u001b[0m\u001b[0;34m'mu'\u001b[0m\u001b[0;34m:\u001b[0m \u001b[0mf\u001b[0m\u001b[0;34m[\u001b[0m\u001b[0;34m'mus'\u001b[0m\u001b[0;34m]\u001b[0m\u001b[0;34m[\u001b[0m\u001b[0mb\u001b[0m\u001b[0;34m]\u001b[0m\u001b[0;34m,\u001b[0m \u001b[0;34m'sigma'\u001b[0m\u001b[0;34m:\u001b[0m \u001b[0mf\u001b[0m\u001b[0;34m[\u001b[0m\u001b[0;34m'sigmas'\u001b[0m\u001b[0;34m]\u001b[0m\u001b[0;34m[\u001b[0m\u001b[0mb\u001b[0m\u001b[0;34m]\u001b[0m\u001b[0;34m}\u001b[0m\u001b[0;34m\u001b[0m\u001b[0m\n\u001b[0;32m---> 36\u001b[0;31m                 \u001b[0msum1\u001b[0m \u001b[0;34m+=\u001b[0m \u001b[0mksi\u001b[0m \u001b[0;34m*\u001b[0m \u001b[0mnp\u001b[0m\u001b[0;34m.\u001b[0m\u001b[0mexp\u001b[0m\u001b[0;34m(\u001b[0m\u001b[0;34m(\u001b[0m\u001b[0;34m-\u001b[0m\u001b[0;36m1.\u001b[0m\u001b[0;34m)\u001b[0m \u001b[0;34m*\u001b[0m \u001b[0mgaussian_kl\u001b[0m\u001b[0;34m(\u001b[0m\u001b[0mparams_a\u001b[0m\u001b[0;34m,\u001b[0m \u001b[0mparams_b\u001b[0m\u001b[0;34m)\u001b[0m\u001b[0;34m)\u001b[0m\u001b[0;34m\u001b[0m\u001b[0m\n\u001b[0m\u001b[1;32m     37\u001b[0m \u001b[0;34m\u001b[0m\u001b[0m\n\u001b[1;32m     38\u001b[0m             \u001b[0;32mfor\u001b[0m \u001b[0mc\u001b[0m\u001b[0;34m,\u001b[0m \u001b[0momega\u001b[0m \u001b[0;32min\u001b[0m \u001b[0menumerate\u001b[0m\u001b[0;34m(\u001b[0m\u001b[0mg\u001b[0m\u001b[0;34m[\u001b[0m\u001b[0;34m'weights'\u001b[0m\u001b[0;34m]\u001b[0m\u001b[0;34m)\u001b[0m\u001b[0;34m:\u001b[0m\u001b[0;34m\u001b[0m\u001b[0m\n",
      "\u001b[0;32m<ipython-input-81-13bb619ee916>\u001b[0m in \u001b[0;36mgaussian_kl\u001b[0;34m(gaus1, gaus2)\u001b[0m\n\u001b[1;32m      2\u001b[0m     ans = (1. / 2.) *           (np.trace(np.dot(np.linalg.inv(gaus2['sigma']), gaus1['sigma'])) + \n\u001b[1;32m      3\u001b[0m            \u001b[0mnp\u001b[0m\u001b[0;34m.\u001b[0m\u001b[0mdot\u001b[0m\u001b[0;34m(\u001b[0m\u001b[0mgaus2\u001b[0m\u001b[0;34m[\u001b[0m\u001b[0;34m'mu'\u001b[0m\u001b[0;34m]\u001b[0m \u001b[0;34m-\u001b[0m \u001b[0mgaus1\u001b[0m\u001b[0;34m[\u001b[0m\u001b[0;34m'mu'\u001b[0m\u001b[0;34m]\u001b[0m\u001b[0;34m,\u001b[0m \u001b[0mnp\u001b[0m\u001b[0;34m.\u001b[0m\u001b[0mdot\u001b[0m\u001b[0;34m(\u001b[0m\u001b[0mnp\u001b[0m\u001b[0;34m.\u001b[0m\u001b[0mlinalg\u001b[0m\u001b[0;34m.\u001b[0m\u001b[0minv\u001b[0m\u001b[0;34m(\u001b[0m\u001b[0mgaus2\u001b[0m\u001b[0;34m[\u001b[0m\u001b[0;34m'sigma'\u001b[0m\u001b[0;34m]\u001b[0m\u001b[0;34m)\u001b[0m\u001b[0;34m,\u001b[0m \u001b[0mgaus2\u001b[0m\u001b[0;34m[\u001b[0m\u001b[0;34m'mu'\u001b[0m\u001b[0;34m]\u001b[0m \u001b[0;34m-\u001b[0m \u001b[0mgaus1\u001b[0m\u001b[0;34m[\u001b[0m\u001b[0;34m'mu'\u001b[0m\u001b[0;34m]\u001b[0m\u001b[0;34m)\u001b[0m\u001b[0;34m)\u001b[0m \u001b[0;34m-\u001b[0m\u001b[0;34m\u001b[0m\u001b[0m\n\u001b[0;32m----> 4\u001b[0;31m            len(gaus1['mu']) + np.log(np.linalg.det(gaus2['sigma']) / np.linalg.det(gaus1['sigma'])))\n\u001b[0m\u001b[1;32m      5\u001b[0m     \u001b[0;32mreturn\u001b[0m \u001b[0mans\u001b[0m\u001b[0;34m\u001b[0m\u001b[0m\n",
      "\u001b[0;32m/usr/local/lib/python3.6/site-packages/numpy/linalg/linalg.py\u001b[0m in \u001b[0;36minv\u001b[0;34m(a)\u001b[0m\n\u001b[1;32m    505\u001b[0m     \"\"\"\n\u001b[1;32m    506\u001b[0m     \u001b[0ma\u001b[0m\u001b[0;34m,\u001b[0m \u001b[0mwrap\u001b[0m \u001b[0;34m=\u001b[0m \u001b[0m_makearray\u001b[0m\u001b[0;34m(\u001b[0m\u001b[0ma\u001b[0m\u001b[0;34m)\u001b[0m\u001b[0;34m\u001b[0m\u001b[0m\n\u001b[0;32m--> 507\u001b[0;31m     \u001b[0m_assertRankAtLeast2\u001b[0m\u001b[0;34m(\u001b[0m\u001b[0ma\u001b[0m\u001b[0;34m)\u001b[0m\u001b[0;34m\u001b[0m\u001b[0m\n\u001b[0m\u001b[1;32m    508\u001b[0m     \u001b[0m_assertNdSquareness\u001b[0m\u001b[0;34m(\u001b[0m\u001b[0ma\u001b[0m\u001b[0;34m)\u001b[0m\u001b[0;34m\u001b[0m\u001b[0m\n\u001b[1;32m    509\u001b[0m     \u001b[0mt\u001b[0m\u001b[0;34m,\u001b[0m \u001b[0mresult_t\u001b[0m \u001b[0;34m=\u001b[0m \u001b[0m_commonType\u001b[0m\u001b[0;34m(\u001b[0m\u001b[0ma\u001b[0m\u001b[0;34m)\u001b[0m\u001b[0;34m\u001b[0m\u001b[0m\n",
      "\u001b[0;32m/usr/local/lib/python3.6/site-packages/numpy/linalg/linalg.py\u001b[0m in \u001b[0;36m_assertRankAtLeast2\u001b[0;34m(*arrays)\u001b[0m\n\u001b[1;32m    200\u001b[0m         \u001b[0;32mif\u001b[0m \u001b[0ma\u001b[0m\u001b[0;34m.\u001b[0m\u001b[0mndim\u001b[0m \u001b[0;34m<\u001b[0m \u001b[0;36m2\u001b[0m\u001b[0;34m:\u001b[0m\u001b[0;34m\u001b[0m\u001b[0m\n\u001b[1;32m    201\u001b[0m             raise LinAlgError('%d-dimensional array given. Array must be '\n\u001b[0;32m--> 202\u001b[0;31m                     'at least two-dimensional' % a.ndim)\n\u001b[0m\u001b[1;32m    203\u001b[0m \u001b[0;34m\u001b[0m\u001b[0m\n\u001b[1;32m    204\u001b[0m \u001b[0;32mdef\u001b[0m \u001b[0m_assertSquareness\u001b[0m\u001b[0;34m(\u001b[0m\u001b[0;34m*\u001b[0m\u001b[0marrays\u001b[0m\u001b[0;34m)\u001b[0m\u001b[0;34m:\u001b[0m\u001b[0;34m\u001b[0m\u001b[0m\n",
      "\u001b[0;31mLinAlgError\u001b[0m: 1-dimensional array given. Array must be at least two-dimensional"
     ]
    }
   ],
   "source": [
    "score_ngrams(1,1)"
   ]
  },
  {
   "cell_type": "code",
   "execution_count": null,
   "metadata": {
    "collapsed": true
   },
   "outputs": [],
   "source": []
  },
  {
   "cell_type": "code",
   "execution_count": null,
   "metadata": {
    "collapsed": true
   },
   "outputs": [],
   "source": []
  },
  {
   "cell_type": "markdown",
   "metadata": {},
   "source": [
    "#__processor___"
   ]
  },
  {
   "cell_type": "code",
   "execution_count": 378,
   "metadata": {
    "collapsed": true
   },
   "outputs": [],
   "source": [
    "from processor import Processor"
   ]
  },
  {
   "cell_type": "code",
   "execution_count": 379,
   "metadata": {},
   "outputs": [
    {
     "name": "stdout",
     "output_type": "stream",
     "text": [
      "> Done with ._get_sentences()\n",
      "> Done with ._get_dictionaries()\n",
      "> Done with ._build_ids_tuples()\n"
     ]
    }
   ],
   "source": [
    "proc = Processor(raw_data)"
   ]
  },
  {
   "cell_type": "code",
   "execution_count": 90,
   "metadata": {
    "collapsed": true
   },
   "outputs": [],
   "source": [
    "# proc.sentences"
   ]
  },
  {
   "cell_type": "code",
   "execution_count": 386,
   "metadata": {
    "collapsed": true
   },
   "outputs": [],
   "source": [
    "from word2gauss.words import Vocabulary\n",
    "vocab_gauss = Vocabulary(dictionary)"
   ]
  },
  {
   "cell_type": "code",
   "execution_count": 91,
   "metadata": {},
   "outputs": [
    {
     "data": {
      "text/plain": [
       "array([   0,  264, 1040,    0, 1022, 1041,    0,    0, 1042,    0, 1043,\n",
       "       1044, 1025,    0,    0, 1045,    0,    0,  790], dtype=uint32)"
      ]
     },
     "execution_count": 91,
     "metadata": {},
     "output_type": "execute_result"
    }
   ],
   "source": [
    "vocab_gauss.tokenize_ids('this paper demonstrates that sulfide toxicity can be modified and dehydroascorbic acid functions as an effector in this process', remove_oov=False)"
   ]
  },
  {
   "cell_type": "code",
   "execution_count": 4,
   "metadata": {
    "collapsed": true
   },
   "outputs": [],
   "source": [
    "proc.train_embeddings()"
   ]
  }
 ],
 "metadata": {
  "kernelspec": {
   "display_name": "Python 3",
   "language": "python",
   "name": "python3"
  },
  "language_info": {
   "codemirror_mode": {
    "name": "ipython",
    "version": 3
   },
   "file_extension": ".py",
   "mimetype": "text/x-python",
   "name": "python",
   "nbconvert_exporter": "python",
   "pygments_lexer": "ipython3",
   "version": "3.6.2"
  }
 },
 "nbformat": 4,
 "nbformat_minor": 1
}
