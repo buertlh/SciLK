{
 "cells": [
  {
   "cell_type": "code",
   "execution_count": 1,
   "metadata": {
    "collapsed": true
   },
   "outputs": [],
   "source": [
    "import collections\n",
    "import typing\n",
    "import numpy as np\n",
    "import tqdm\n",
    "import re\n",
    "import nltk\n",
    "\n",
    "import matplotlib.pyplot as plt\n",
    "%matplotlib inline"
   ]
  },
  {
   "cell_type": "code",
   "execution_count": 2,
   "metadata": {
    "collapsed": true
   },
   "outputs": [],
   "source": [
    "NUMBER_TOKEN = 'NUMBER'\n",
    "NGRAM_SEP = '_'\n",
    "TILDA_SEP = '~'\n",
    "UNK_TOKEN = 'UNK'"
   ]
  },
  {
   "cell_type": "code",
   "execution_count": 3,
   "metadata": {
    "collapsed": true
   },
   "outputs": [],
   "source": [
    "en_stopwords = nltk.corpus.stopwords.words('english')"
   ]
  },
  {
   "cell_type": "code",
   "execution_count": 8,
   "metadata": {},
   "outputs": [
    {
     "data": {
      "text/plain": [
       "2940422"
      ]
     },
     "execution_count": 8,
     "metadata": {},
     "output_type": "execute_result"
    }
   ],
   "source": [
    "# 1. Read text\n",
    "\n",
    "with open('data/text_small.txt', 'r') as f:\n",
    "    raw_data = f.read()\n",
    "    # Get rid of underscores and tildas\n",
    "    raw_data = raw_data.replace('_', ' ')\n",
    "    raw_data = raw_data.replace('~', ' ')\n",
    "\n",
    "len(raw_data)"
   ]
  },
  {
   "cell_type": "code",
   "execution_count": 10,
   "metadata": {},
   "outputs": [
    {
     "data": {
      "text/plain": [
       "['BACKGROUND: Rivaroxaban is currently used to prevent stroke in patients with atrial fibrillation.',\n",
       " 'Measuring coagulation function may help clinicians to understand the effects of this drug and the associated risk of bleeding.']"
      ]
     },
     "execution_count": 10,
     "metadata": {},
     "output_type": "execute_result"
    }
   ],
   "source": [
    "# tmp = raw_data[:2000]\n",
    "tmp = raw_data\n",
    "tmp_sent = nltk.tokenize.sent_tokenize(tmp)\n",
    "tmp_sent[:2]"
   ]
  },
  {
   "cell_type": "code",
   "execution_count": 36,
   "metadata": {
    "scrolled": true
   },
   "outputs": [
    {
     "data": {
      "text/plain": [
       "'a a'"
      ]
     },
     "execution_count": 36,
     "metadata": {},
     "output_type": "execute_result"
    }
   ],
   "source": [
    "'kek'.replace('e', ' ').replace('k', 'a')"
   ]
  },
  {
   "cell_type": "code",
   "execution_count": 39,
   "metadata": {
    "collapsed": true
   },
   "outputs": [],
   "source": [
    "def regexp_word_tokenize(string: str) -> list:\n",
    "    # FIX: it doesn't split by underscore!!\n",
    "    rgx = re.compile(\"([\\w]*\\w)\")\n",
    "    return rgx.findall(string)\n",
    "\n",
    "\n",
    "def merge_numbers(words: list) -> list:\n",
    "    def startswith_digit(string: str) -> bool:\n",
    "        return string[0].isdigit()\n",
    " \n",
    "    ans = []\n",
    "    i = 0\n",
    "    while i < len(words):\n",
    "        j = 0\n",
    "        while i + j < len(words) and startswith_digit(words[i + j]):\n",
    "            j += 1\n",
    "        if i + j > 1 and startswith_digit(words[i + j - 1]):\n",
    "            ans.append(NUMBER_TOKEN)\n",
    "        if i + j < len(words):\n",
    "            ans.append(words[i + j])\n",
    "        i += j + 1\n",
    "    return ans\n",
    "\n",
    "\n",
    "def cool_tokenize(string: str) -> list:\n",
    "    \"\"\"\n",
    "    Tokenize and replace numbers with `NUMBER_TOKEN`.\n",
    "    \"\"\"\n",
    "    string = string.lower()\n",
    "    tkzd = regexp_word_tokenize(string)\n",
    "    return merge_numbers(tkzd)"
   ]
  },
  {
   "cell_type": "code",
   "execution_count": 40,
   "metadata": {
    "scrolled": true
   },
   "outputs": [
    {
     "data": {
      "text/plain": [
       "[['background',\n",
       "  'rivaroxaban',\n",
       "  'is',\n",
       "  'currently',\n",
       "  'used',\n",
       "  'to',\n",
       "  'prevent',\n",
       "  'stroke',\n",
       "  'in',\n",
       "  'patients',\n",
       "  'with',\n",
       "  'atrial',\n",
       "  'fibrillation'],\n",
       " ['measuring',\n",
       "  'coagulation',\n",
       "  'function',\n",
       "  'may',\n",
       "  'help',\n",
       "  'clinicians',\n",
       "  'to',\n",
       "  'understand',\n",
       "  'the',\n",
       "  'effects',\n",
       "  'of',\n",
       "  'this',\n",
       "  'drug',\n",
       "  'and',\n",
       "  'the',\n",
       "  'associated',\n",
       "  'risk',\n",
       "  'of',\n",
       "  'bleeding']]"
      ]
     },
     "execution_count": 40,
     "metadata": {},
     "output_type": "execute_result"
    }
   ],
   "source": [
    "# 2. Tokenize each of sentences\n",
    "\n",
    "tmp_sent_tkzd = list(map(lambda x: cool_tokenize(x), tmp_sent))\n",
    "tmp_sent_tkzd = list(filter(lambda x: len(x), tmp_sent_tkzd))\n",
    "tmp_sent_tkzd[:2]"
   ]
  },
  {
   "cell_type": "code",
   "execution_count": 63,
   "metadata": {
    "collapsed": true
   },
   "outputs": [],
   "source": [
    "def make_ngrams(words: list, upto=2) -> list:\n",
    "    if len(words) > 1:\n",
    "        res = []\n",
    "        for i in range(1, upto + 1):\n",
    "            res.extend(nltk.ngrams(words, i))\n",
    "        return res\n",
    "    else:\n",
    "        return [tuple(words)]"
   ]
  },
  {
   "cell_type": "code",
   "execution_count": 64,
   "metadata": {},
   "outputs": [
    {
     "data": {
      "text/plain": [
       "[[('background',),\n",
       "  ('rivaroxaban',),\n",
       "  ('is',),\n",
       "  ('currently',),\n",
       "  ('used',),\n",
       "  ('to',),\n",
       "  ('prevent',),\n",
       "  ('stroke',),\n",
       "  ('in',),\n",
       "  ('patients',),\n",
       "  ('with',),\n",
       "  ('atrial',),\n",
       "  ('fibrillation',),\n",
       "  ('background', 'rivaroxaban'),\n",
       "  ('rivaroxaban', 'is'),\n",
       "  ('is', 'currently'),\n",
       "  ('currently', 'used'),\n",
       "  ('used', 'to'),\n",
       "  ('to', 'prevent'),\n",
       "  ('prevent', 'stroke'),\n",
       "  ('stroke', 'in'),\n",
       "  ('in', 'patients'),\n",
       "  ('patients', 'with'),\n",
       "  ('with', 'atrial'),\n",
       "  ('atrial', 'fibrillation'),\n",
       "  ('background', 'rivaroxaban', 'is'),\n",
       "  ('rivaroxaban', 'is', 'currently'),\n",
       "  ('is', 'currently', 'used'),\n",
       "  ('currently', 'used', 'to'),\n",
       "  ('used', 'to', 'prevent'),\n",
       "  ('to', 'prevent', 'stroke'),\n",
       "  ('prevent', 'stroke', 'in'),\n",
       "  ('stroke', 'in', 'patients'),\n",
       "  ('in', 'patients', 'with'),\n",
       "  ('patients', 'with', 'atrial'),\n",
       "  ('with', 'atrial', 'fibrillation')]]"
      ]
     },
     "execution_count": 64,
     "metadata": {},
     "output_type": "execute_result"
    }
   ],
   "source": [
    "# 3. Get ngrams for each of sentences\n",
    "\n",
    "tmp_ngrams = list(map(lambda x: make_ngrams(x, 3), tmp_sent_tkzd))\n",
    "tmp_ngrams[:1]"
   ]
  },
  {
   "cell_type": "code",
   "execution_count": 65,
   "metadata": {
    "collapsed": true
   },
   "outputs": [],
   "source": [
    "def contains_stopword(ngram: tuple, stopwords=en_stopwords) -> bool:\n",
    "    list_of_bool = list(map(lambda x: x in stopwords, ngram))\n",
    "    return any(list_of_bool)\n",
    "\n",
    "def remove_bad_ngrams(ngrams: list) -> list:\n",
    "    return list(filter(lambda x: contains_stopword(x) == False, ngrams))"
   ]
  },
  {
   "cell_type": "code",
   "execution_count": 71,
   "metadata": {
    "collapsed": true
   },
   "outputs": [],
   "source": [
    "# 4. Remove ngrams containing stopwords\n",
    "\n",
    "tmp_ngrams_clean = list(map(lambda x: remove_bad_ngrams(x), tmp_ngrams))"
   ]
  },
  {
   "cell_type": "code",
   "execution_count": 12,
   "metadata": {
    "collapsed": true
   },
   "outputs": [],
   "source": [
    "def get_unigrams(ngrams: list) -> list:\n",
    "    unigram_tuples = list(filter(lambda x: len(x) == 1, ngrams))\n",
    "    unigrams = list(map(lambda x: x[0], unigram_tuples))\n",
    "    return unigrams\n",
    "\n",
    "def make_sentence(ngrams: list):\n",
    "    unigrams = get_unigrams(ngrams)\n",
    "    return ' '.join(unigrams)"
   ]
  },
  {
   "cell_type": "code",
   "execution_count": 13,
   "metadata": {},
   "outputs": [
    {
     "data": {
      "text/plain": [
       "['background rivaroxaban currently used prevent stroke patients atrial fibrillation',\n",
       " 'measuring coagulation function may help clinicians understand effects drug associated risk bleeding']"
      ]
     },
     "execution_count": 13,
     "metadata": {},
     "output_type": "execute_result"
    }
   ],
   "source": [
    "# 5. Make sentences\n",
    "\n",
    "tmp_sent_clean = list(map(lambda x: make_sentence(x), tmp_ngrams_clean))\n",
    "tmp_sent_clean[:2]"
   ]
  },
  {
   "cell_type": "code",
   "execution_count": 14,
   "metadata": {
    "collapsed": true
   },
   "outputs": [],
   "source": [
    "from collections import Counter"
   ]
  },
  {
   "cell_type": "code",
   "execution_count": 15,
   "metadata": {
    "collapsed": true
   },
   "outputs": [],
   "source": [
    "def process_ngrams(ngrams: list) -> list:\n",
    "    return list(map(lambda x: NGRAM_SEP.join(x), ngrams))\n",
    "\n",
    "import itertools\n",
    "\n",
    "merged_ngrams = list(itertools.chain.from_iterable(tmp_ngrams_clean))"
   ]
  },
  {
   "cell_type": "code",
   "execution_count": 16,
   "metadata": {},
   "outputs": [
    {
     "data": {
      "text/plain": [
       "269"
      ]
     },
     "execution_count": 16,
     "metadata": {},
     "output_type": "execute_result"
    }
   ],
   "source": [
    "cntr = Counter(process_ngrams(merged_ngrams))\n",
    "cntr['age']"
   ]
  },
  {
   "cell_type": "code",
   "execution_count": 17,
   "metadata": {
    "collapsed": true
   },
   "outputs": [],
   "source": [
    "THRESHOLD = 3\n",
    "cntr_thr = list(filter(lambda x: x[1] > THRESHOLD, cntr.items()))"
   ]
  },
  {
   "cell_type": "code",
   "execution_count": 18,
   "metadata": {
    "collapsed": true
   },
   "outputs": [],
   "source": [
    "# 6. Building dictionary\n",
    "\n",
    "dictionary = {UNK_TOKEN: 0}\n",
    "for item, _ in cntr_thr:\n",
    "    dictionary[item] = len(dictionary)"
   ]
  },
  {
   "cell_type": "code",
   "execution_count": 19,
   "metadata": {
    "collapsed": true
   },
   "outputs": [],
   "source": [
    "reversed_dictionary = dict(zip(dictionary.values(), dictionary.keys()))\n",
    "# dictionary, reversed_dictionary"
   ]
  },
  {
   "cell_type": "code",
   "execution_count": 20,
   "metadata": {
    "collapsed": true
   },
   "outputs": [],
   "source": [
    "def get_ngrams_from_dict(dictionary: dict) -> list:\n",
    "    return list(filter(lambda x: NGRAM_SEP in x, dictionary.keys()))\n",
    "\n",
    "def get_tildas_from_dict(dictionary: dict) -> list:\n",
    "    return list(filter(lambda x: TILDA_SEP in x, dictionary.keys()))\n",
    "\n",
    "def split_ngrams(ngrams: list) -> list:\n",
    "    return list(map(lambda x: x.split(NGRAM_SEP), ngrams))\n",
    "\n",
    "def sort_ngrams(ngrams: list) -> list:\n",
    "    return list(map(lambda x: sorted(x), ngrams))\n",
    "\n",
    "def make_tilda_tokens(ngrams: list) -> list:\n",
    "    return list(map(lambda x: TILDA_SEP.join(x), ngrams))\n",
    "\n",
    "def unique_tilda_tokens(dictionary: dict) -> list:\n",
    "    return list(set(make_tilda_tokens(sort_ngrams(split_ngrams(get_ngrams_from_dict(dictionary))))))"
   ]
  },
  {
   "cell_type": "code",
   "execution_count": 21,
   "metadata": {
    "collapsed": true
   },
   "outputs": [],
   "source": [
    "uniqs = unique_tilda_tokens(dictionary)"
   ]
  },
  {
   "cell_type": "code",
   "execution_count": 22,
   "metadata": {
    "collapsed": true
   },
   "outputs": [],
   "source": [
    "# 7. Extend dictionary with tilda tokens\n",
    "\n",
    "for item in uniqs:\n",
    "    dictionary[item] = len(dictionary)"
   ]
  },
  {
   "cell_type": "code",
   "execution_count": 23,
   "metadata": {},
   "outputs": [
    {
     "data": {
      "text/plain": [
       "22055"
      ]
     },
     "execution_count": 23,
     "metadata": {},
     "output_type": "execute_result"
    }
   ],
   "source": [
    "reversed_dictionary = dict(zip(dictionary.values(), dictionary.keys()))\n",
    "len(dictionary)"
   ]
  },
  {
   "cell_type": "code",
   "execution_count": 24,
   "metadata": {
    "collapsed": true
   },
   "outputs": [],
   "source": [
    "def replace_unk(string: str, dictionary=dictionary) -> str:\n",
    "    list_unk = list(map(lambda x: x if x in dictionary else UNK_TOKEN, string.split()))\n",
    "    return ' '.join(list_unk)\n",
    "\n",
    "def tokenize_ids(string: str, dictionary=dictionary) -> list:\n",
    "    return list(map(lambda x: dictionary[x] if x in dictionary else dictionary[UNK_TOKEN], string.split()))"
   ]
  },
  {
   "cell_type": "code",
   "execution_count": 25,
   "metadata": {
    "collapsed": true
   },
   "outputs": [],
   "source": [
    "# 8. Replace out-of-vocabulary words with `UNK_TOKEN`\n",
    "\n",
    "tmp_sent_unk = list(map(lambda x: replace_unk(x), tmp_sent_clean))\n",
    "tmp_sent_unk = list(filter(lambda x: len(x) > 0, tmp_sent_unk))"
   ]
  },
  {
   "cell_type": "code",
   "execution_count": 26,
   "metadata": {
    "collapsed": true
   },
   "outputs": [],
   "source": [
    "def sent_contains(sentence, pattern):\n",
    "    return all(list(map(lambda x: x in sentence, pattern)))\n",
    "\n",
    "def indices_for_ngram(ngram: str) -> tuple:\n",
    "#     indices = tuple(list(map(lambda x: dictionary[x], ngram.split(NGRAM_SEP))))\n",
    "    indices = []\n",
    "    for i in ngram.split(NGRAM_SEP):\n",
    "        if i not in dictionary:\n",
    "            return None\n",
    "        indices.append(dictionary[i])\n",
    "    return tuple([tuple(indices), dictionary[ngram]])\n",
    "\n",
    "def indices_for_tilda(ngram: str) -> tuple:\n",
    "#     indices = sorted(list(map(lambda x: dictionary[x], ngram.split(TILDA_SEP))))\n",
    "#     indices = tuple(indices)\n",
    "    indices = []\n",
    "    for i in ngram.split(TILDA_SEP):\n",
    "        if i not in dictionary:\n",
    "            return None\n",
    "        indices.append(dictionary[i])\n",
    "    return tuple([tuple(sorted(indices)), dictionary[ngram]])"
   ]
  },
  {
   "cell_type": "code",
   "execution_count": 27,
   "metadata": {
    "collapsed": true
   },
   "outputs": [],
   "source": [
    "ngrams_from_dict = get_ngrams_from_dict(dictionary)\n",
    "tildas_from_dict = get_tildas_from_dict(dictionary)"
   ]
  },
  {
   "cell_type": "code",
   "execution_count": 28,
   "metadata": {
    "collapsed": true
   },
   "outputs": [],
   "source": [
    "dict_ngram_id_by_tuple = {}\n",
    "dict_tilda_id_by_tuple = {}\n",
    "\n",
    "# ngrams\n",
    "for ngram in ngrams_from_dict:\n",
    "    tmp = indices_for_ngram(ngram)\n",
    "    if tmp is not None:\n",
    "        words_tup, ngram_id = tmp\n",
    "        dict_ngram_id_by_tuple[words_tup] = ngram_id\n",
    "    \n",
    "# tildas\n",
    "for tilda in tildas_from_dict:\n",
    "    tmp = indices_for_tilda(tilda)\n",
    "    if tmp is not None:\n",
    "        words_tup, tilda_id = tmp\n",
    "        dict_tilda_id_by_tuple[words_tup] = tilda_id\n",
    "    \n",
    "def ngram_id(ngram_tuple: tuple) -> int:\n",
    "    if ngram_tuple in dict_ngram_id_by_tuple:\n",
    "        return dict_ngram_id_by_tuple[ngram_tuple]\n",
    "    else:\n",
    "        return 0\n",
    "    \n",
    "def tilda_id(tilda_tuple: tuple) -> int:\n",
    "    tilda_tuple = tuple(sorted(tilda_tuple))\n",
    "    if tilda_tuple in dict_tilda_id_by_tuple:\n",
    "        return dict_tilda_id_by_tuple[tilda_tuple]\n",
    "    else:\n",
    "        return 0"
   ]
  },
  {
   "cell_type": "code",
   "execution_count": 29,
   "metadata": {},
   "outputs": [
    {
     "data": {
      "text/plain": [
       "((3, 4), 10)"
      ]
     },
     "execution_count": 29,
     "metadata": {},
     "output_type": "execute_result"
    }
   ],
   "source": [
    "indices_for_ngram(ngrams_from_dict[0])"
   ]
  },
  {
   "cell_type": "code",
   "execution_count": 30,
   "metadata": {},
   "outputs": [
    {
     "data": {
      "text/plain": [
       "('currently', 'used', 'currently_used')"
      ]
     },
     "execution_count": 30,
     "metadata": {},
     "output_type": "execute_result"
    }
   ],
   "source": [
    "reversed_dictionary[3], reversed_dictionary[4], reversed_dictionary[10]"
   ]
  },
  {
   "cell_type": "code",
   "execution_count": 31,
   "metadata": {},
   "outputs": [
    {
     "data": {
      "text/plain": [
       "(((3, 4), 19331), ((3, 4), 10))"
      ]
     },
     "execution_count": 31,
     "metadata": {},
     "output_type": "execute_result"
    }
   ],
   "source": [
    "indices_for_tilda('currently~used'), indices_for_ngram('currently_used')"
   ]
  },
  {
   "cell_type": "code",
   "execution_count": 32,
   "metadata": {},
   "outputs": [
    {
     "data": {
      "text/plain": [
       "('NUMBER_mmhg', 'repressor', 'apolipoprotein')"
      ]
     },
     "execution_count": 32,
     "metadata": {},
     "output_type": "execute_result"
    }
   ],
   "source": [
    "reversed_dictionary[1506], reversed_dictionary[1383], reversed_dictionary[6770]"
   ]
  },
  {
   "cell_type": "code",
   "execution_count": 33,
   "metadata": {},
   "outputs": [
    {
     "data": {
      "text/plain": [
       "('staphylococcus', 'aureus', 'staphylococcus_aureus')"
      ]
     },
     "execution_count": 33,
     "metadata": {},
     "output_type": "execute_result"
    }
   ],
   "source": [
    "reversed_dictionary[436], reversed_dictionary[437], reversed_dictionary[447]"
   ]
  },
  {
   "cell_type": "code",
   "execution_count": 60,
   "metadata": {
    "collapsed": true
   },
   "outputs": [],
   "source": [
    "# Try to train word2gauss.\n",
    "\n",
    "from word2gauss import GaussianEmbedding, iter_pairs\n",
    "from word2gauss.words import Vocabulary\n",
    "\n",
    "vocab_gauss = Vocabulary(dictionary)\n",
    "embed = GaussianEmbedding(len(dictionary), 100,\n",
    "                          covariance_type='diagonal',\n",
    "                          energy_type='KL')"
   ]
  },
  {
   "cell_type": "code",
   "execution_count": 61,
   "metadata": {},
   "outputs": [
    {
     "data": {
      "text/plain": [
       "18572"
      ]
     },
     "execution_count": 61,
     "metadata": {},
     "output_type": "execute_result"
    }
   ],
   "source": [
    "len(tmp_sent_unk)"
   ]
  },
  {
   "cell_type": "code",
   "execution_count": 50,
   "metadata": {
    "collapsed": true
   },
   "outputs": [],
   "source": [
    "# tmp_sent_unk = sorted()\n",
    "tmp_sent_unk = sorted(tmp_sent_unk, key=lambda x: len(x.split()))"
   ]
  },
  {
   "cell_type": "code",
   "execution_count": 64,
   "metadata": {},
   "outputs": [
    {
     "name": "stdout",
     "output_type": "stream",
     "text": [
      "CPU times: user 2min 10s, sys: 7.15 s, total: 2min 17s\n",
      "Wall time: 1min 48s\n"
     ]
    }
   ],
   "source": [
    "%%time\n",
    "embed.train(\n",
    "    iter_pairs(tmp_sent_unk[10:], vocab_gauss, ngram_id,\n",
    "               tilda_id, batch_size=10, nsamples=2,\n",
    "               window=5, n=3),\n",
    "    n_workers=8)"
   ]
  },
  {
   "cell_type": "code",
   "execution_count": 91,
   "metadata": {
    "collapsed": true,
    "scrolled": true
   },
   "outputs": [],
   "source": [
    "# list(filter(lambda x: x.count(NGRAM_SEP) == 2, get_ngrams_from_dict(dictionary)))"
   ]
  },
  {
   "cell_type": "code",
   "execution_count": 78,
   "metadata": {
    "collapsed": true
   },
   "outputs": [],
   "source": [
    "def nearest(token, num=10):\n",
    "    return [x[\"word\"] for x in embed.nearest_neighbors([(token,)], vocab=vocab_gauss, num=num)]"
   ]
  },
  {
   "cell_type": "code",
   "execution_count": 79,
   "metadata": {},
   "outputs": [
    {
     "data": {
      "text/plain": [
       "['normal_breast_tissue',\n",
       " 'including~outcomes',\n",
       " 'mcrc',\n",
       " 'NUMBER_effect',\n",
       " 'age_groups',\n",
       " 'wt1',\n",
       " 'insertion',\n",
       " 'udder_cream_r',\n",
       " 'randomly_assigned',\n",
       " 'nd']"
      ]
     },
     "execution_count": 79,
     "metadata": {},
     "output_type": "execute_result"
    }
   ],
   "source": [
    "nearest('normal_breast_tissue')"
   ]
  },
  {
   "cell_type": "code",
   "execution_count": 80,
   "metadata": {},
   "outputs": [
    {
     "data": {
      "text/plain": [
       "['radix_paeoniae_rubra',\n",
       " 'suspensions',\n",
       " 'endocycling',\n",
       " 'binuclear_complex',\n",
       " 'dcr',\n",
       " 'powered',\n",
       " 'cf3_NUMBER',\n",
       " 'gene~mthfr',\n",
       " 'co2',\n",
       " 'causative']"
      ]
     },
     "execution_count": 80,
     "metadata": {},
     "output_type": "execute_result"
    }
   ],
   "source": [
    "nearest('radix_paeoniae_rubra')"
   ]
  },
  {
   "cell_type": "code",
   "execution_count": 81,
   "metadata": {},
   "outputs": [
    {
     "data": {
      "text/plain": [
       "['amino_acid',\n",
       " 'rpe',\n",
       " 'liver_cancer',\n",
       " 'high~prevalence',\n",
       " 'vulnerability',\n",
       " 'w~w',\n",
       " 'associated~gelatinase',\n",
       " 'breeds',\n",
       " 'preclinical~studies',\n",
       " 'hundred~one']"
      ]
     },
     "execution_count": 81,
     "metadata": {},
     "output_type": "execute_result"
    }
   ],
   "source": [
    "nearest('amino_acid')"
   ]
  },
  {
   "cell_type": "code",
   "execution_count": 89,
   "metadata": {},
   "outputs": [
    {
     "name": "stdout",
     "output_type": "stream",
     "text": [
      "['wistar', 'campylobacter', 'groups', 'week', 'hsl', 'rats', 'studied', 'morning', 'neovascularization', 'calcitriol', 'group~p', 'old', 'female', 'count', 'ethanol', 'consist', 'centres', 'findings_suggest', 'aged', 'cx26']\n"
     ]
    }
   ],
   "source": [
    "nearest('wistar')"
   ]
  },
  {
   "cell_type": "code",
   "execution_count": 82,
   "metadata": {},
   "outputs": [
    {
     "name": "stdout",
     "output_type": "stream",
     "text": [
      "['male', 'homozygous', 'iqr', 'NUMBER~age', 'NUMBER~cohort', 'experienced', 'female', 'odds', 'acute', 'underwent', 'abmd', 'bcva', 'infarction', 'mean', 'NUMBER~risk', 'boys', 'summary', 'surgery', 'NUMBER~confidence', 'npdr']\n"
     ]
    }
   ],
   "source": [
    "print([x[\"word\"] for x in embed.nearest_neighbors([('male',)], vocab=vocab_gauss, num=20)])"
   ]
  },
  {
   "cell_type": "code",
   "execution_count": 93,
   "metadata": {},
   "outputs": [
    {
     "name": "stdout",
     "output_type": "stream",
     "text": [
      "['crf01', 'translocated', 'findings_suggest', 'mediators', 'choroid', 'data_reveal', 'hematologic', 'oocytes', 'wky', 'results_suggest', 'retrieved', 'outcomes_including', 'theoretical', 'caudate', 'extreme', 'elevated~serum', 'cyclobutane', 'lung_disease', 'dfs', 'mediated_induction']\n"
     ]
    }
   ],
   "source": [
    "print([x[\"word\"] for x in embed.nearest_neighbors([('crf01',)], vocab=vocab_gauss, num=20)])"
   ]
  },
  {
   "cell_type": "code",
   "execution_count": 97,
   "metadata": {},
   "outputs": [
    {
     "name": "stdout",
     "output_type": "stream",
     "text": [
      "['ae', 'crystal~structures', 'accompanied', 'serotonin_NUMBER', 'cu_ii', 'nmr', 'bioassays', 'phox', 'c_elegans', 'neurotrophic_factor', 'pg_NUMBER', 'mm_hg', 'formers~stone', 'mt', 'vs_placebo', 'rna', 'significantly_enhanced', 'monophosphate', 'NUMBER~gene', 'NUMBER_samples']\n"
     ]
    }
   ],
   "source": [
    "print([x[\"word\"] for x in embed.nearest_neighbors([('ae',)], vocab=vocab_gauss, num=20)])"
   ]
  },
  {
   "cell_type": "code",
   "execution_count": 83,
   "metadata": {
    "collapsed": true
   },
   "outputs": [],
   "source": [
    "def calc_kl(bigram):\n",
    "    \"\"\"\n",
    "    Calculate KL-divergence.\n",
    "    \n",
    "    Parameters\n",
    "    ----------\n",
    "    bigram : string\n",
    "    \n",
    "    Returns\n",
    "    -------\n",
    "    Calculated KL-divergence.\n",
    "    \n",
    "    \"\"\"\n",
    "    def gaus_repr(token):\n",
    "        \"\"\"\n",
    "        Returns\n",
    "        -------\n",
    "        list of mus, list of sigmas\n",
    "        \n",
    "        \"\"\"\n",
    "        if TILDA_SEP in token:\n",
    "            token = token.split(TILDA_SEP)\n",
    "            token = sorted(token)\n",
    "            token = TILDA_SEP.join(token)\n",
    "        mu = embed.mu[vocab_gauss.word2id(token)]\n",
    "        sigma = np.diag(embed.sigma[vocab_gauss.word2id(token)]) # Diagonal matrix.\n",
    "        return mu, sigma\n",
    "\n",
    "    # Gaussian representation of `bigram`.\n",
    "    mu_bigram, sigma_bigram = gaus_repr(bigram)\n",
    "    \n",
    "    # Gaussian representation of tilda-token.\n",
    "    tilda = bigram.replace('_', '~')\n",
    "    mu_tilda, sigma_tilda = gaus_repr(tilda)\n",
    "    \n",
    "    def gaussian_kl(gaus1, gaus2):\n",
    "        ans = (1. / 2.) * \\\n",
    "              (np.trace(np.dot(np.linalg.inv(gaus2['sigma']), gaus1['sigma'])) + \n",
    "               np.dot(gaus2['mu'] - gaus1['mu'], np.dot(np.linalg.inv(gaus2['sigma']), gaus2['mu'] - gaus1['mu'])) - \n",
    "               len(gaus1['mu']) + np.log(np.linalg.det(gaus2['sigma']) / np.linalg.det(gaus1['sigma'])))\n",
    "        return ans\n",
    "    \n",
    "    gaus_tilda =  {'mu' : mu_tilda,  'sigma' : sigma_tilda}\n",
    "    gaus_bigram = {'mu' : mu_bigram, 'sigma' : sigma_bigram}\n",
    "    \n",
    "    return gaussian_kl(gaus_bigram, gaus_tilda)"
   ]
  },
  {
   "cell_type": "code",
   "execution_count": 85,
   "metadata": {},
   "outputs": [
    {
     "data": {
      "text/plain": [
       "5.7544670104980469"
      ]
     },
     "execution_count": 85,
     "metadata": {},
     "output_type": "execute_result"
    }
   ],
   "source": [
    "calc_kl('important_role')"
   ]
  },
  {
   "cell_type": "code",
   "execution_count": 86,
   "metadata": {},
   "outputs": [
    {
     "data": {
      "text/plain": [
       "5.246495246887207"
      ]
     },
     "execution_count": 86,
     "metadata": {},
     "output_type": "execute_result"
    }
   ],
   "source": [
    "calc_kl('amino_acid')"
   ]
  },
  {
   "cell_type": "code",
   "execution_count": 87,
   "metadata": {},
   "outputs": [
    {
     "data": {
      "text/plain": [
       "4.7753140926361084"
      ]
     },
     "execution_count": 87,
     "metadata": {},
     "output_type": "execute_result"
    }
   ],
   "source": [
    "calc_kl('breast_cancer')"
   ]
  },
  {
   "cell_type": "code",
   "execution_count": 88,
   "metadata": {},
   "outputs": [
    {
     "data": {
      "text/plain": [
       "5.404483437538147"
      ]
     },
     "execution_count": 88,
     "metadata": {},
     "output_type": "execute_result"
    }
   ],
   "source": [
    "calc_kl('crf01_ae')"
   ]
  },
  {
   "cell_type": "code",
   "execution_count": 89,
   "metadata": {},
   "outputs": [
    {
     "data": {
      "text/plain": [
       "5.3233507573604584"
      ]
     },
     "execution_count": 89,
     "metadata": {},
     "output_type": "execute_result"
    }
   ],
   "source": [
    "calc_kl('radix_paeoniae_rubra')"
   ]
  },
  {
   "cell_type": "code",
   "execution_count": 90,
   "metadata": {},
   "outputs": [
    {
     "data": {
      "text/plain": [
       "4.8883925266563892"
      ]
     },
     "execution_count": 90,
     "metadata": {},
     "output_type": "execute_result"
    }
   ],
   "source": [
    "calc_kl('approximately_NUMBER_million')"
   ]
  },
  {
   "cell_type": "code",
   "execution_count": null,
   "metadata": {
    "collapsed": true
   },
   "outputs": [],
   "source": []
  },
  {
   "cell_type": "code",
   "execution_count": 112,
   "metadata": {},
   "outputs": [
    {
     "data": {
      "text/plain": [
       "(40270, 100)"
      ]
     },
     "execution_count": 112,
     "metadata": {},
     "output_type": "execute_result"
    }
   ],
   "source": [
    "embed.mu.shape"
   ]
  },
  {
   "cell_type": "code",
   "execution_count": 113,
   "metadata": {},
   "outputs": [
    {
     "data": {
      "text/plain": [
       "20135"
      ]
     },
     "execution_count": 113,
     "metadata": {},
     "output_type": "execute_result"
    }
   ],
   "source": [
    "len(dictionary)"
   ]
  },
  {
   "cell_type": "code",
   "execution_count": 126,
   "metadata": {},
   "outputs": [
    {
     "data": {
      "text/plain": [
       "[<matplotlib.lines.Line2D at 0x121c3e128>]"
      ]
     },
     "execution_count": 126,
     "metadata": {},
     "output_type": "execute_result"
    },
    {
     "data": {
      "image/png": "[encoded data removed]",
      "text/plain": [
       "<matplotlib.figure.Figure at 0x121c3e400>"
      ]
     },
     "metadata": {},
     "output_type": "display_data"
    }
   ],
   "source": [
    "tmpid = 101\n",
    "plt.plot(embed.mu[tmpid])\n",
    "plt.plot(embed.mu[len(dictionary) + tmpid])"
   ]
  },
  {
   "cell_type": "code",
   "execution_count": 46,
   "metadata": {},
   "outputs": [
    {
     "data": {
      "text/plain": [
       "[]"
      ]
     },
     "execution_count": 46,
     "metadata": {},
     "output_type": "execute_result"
    }
   ],
   "source": [
    "all_combinations = []\n",
    "for i in range(2, 2 + 1):\n",
    "    all_combinations.extend(itertools.combinations([1,], i))\n",
    "all_combinations"
   ]
  },
  {
   "cell_type": "code",
   "execution_count": null,
   "metadata": {
    "collapsed": true
   },
   "outputs": [],
   "source": []
  },
  {
   "cell_type": "code",
   "execution_count": null,
   "metadata": {
    "collapsed": true
   },
   "outputs": [],
   "source": []
  },
  {
   "cell_type": "code",
   "execution_count": null,
   "metadata": {
    "collapsed": true
   },
   "outputs": [],
   "source": []
  },
  {
   "cell_type": "code",
   "execution_count": null,
   "metadata": {
    "collapsed": true
   },
   "outputs": [],
   "source": [
    "def gaus_repr(token):\n",
    "    \"\"\"\n",
    "    Gaussian representation of token.\n",
    "    :return: mu and sigma\n",
    "    \"\"\"\n",
    "    if TILDA_SEP in token:\n",
    "        token = token.split(TILDA_SEP)\n",
    "        token = sorted(token)\n",
    "        token = TILDA_SEP.join(token)\n",
    "\n",
    "    return (embed.mu[vocab_gauss.word2id(token)],\n",
    "            np.diag(embed.sigma[vocab_gauss.word2id(token)]))  # Diagonal matrix.\n",
    "\n",
    "    def calc_variational_kl(bigram, order=0):\n",
    "        \"\"\"\n",
    "        Calculate KL-divergence of bigram and corresponding mixture.\n",
    "        :param bigram: string\n",
    "        :param order: int\n",
    "            If order is 0, then KL(bigram, mixture) is calculated;\n",
    "            if order is 1, then KL(mixture, bigram) is calculated.\n",
    "        \"\"\"\n",
    "        word1 = bigram.split('_')[0]\n",
    "        word2 = bigram.split('_')[1]\n",
    "\n",
    "        # Gaussian representation of first word in `bigram`.\n",
    "        mu1, sigma1 = self.gaus_repr(word1)\n",
    "\n",
    "        # Gaussian representation of second word in `bigram`.\n",
    "        mu2, sigma2 = self.gaus_repr(word2)\n",
    "\n",
    "        mu_words = np.array([mu1, mu2])\n",
    "        sigma_words = np.array([np.diag(sigma1), np.diag(sigma2)])\n",
    "\n",
    "        # Gaussian representation of `bigram`.\n",
    "        mu_bigram, sigma_bigram = self.gaus_repr(bigram)\n",
    "\n",
    "        weights_words = [1./2., 1./2.]\n",
    "        weights_bigram = [1.]\n",
    "\n",
    "        def complex_kl(f, g):\n",
    "            ans = 0\n",
    "            for a, pi in enumerate(f['weights']):\n",
    "                sum1 = 0\n",
    "                sum2 = 0\n",
    "\n",
    "                for b, ksi in enumerate(f['weights']):\n",
    "                    params_a = {'mu': f['mus'][a], 'sigma': f['sigmas'][a]}\n",
    "                    params_b = {'mu': f['mus'][b], 'sigma': f['sigmas'][b]}\n",
    "                    sum1 += ksi * np.exp((-1.) * gaussian_kl(params_a, params_b))\n",
    "\n",
    "                for c, omega in enumerate(g['weights']):\n",
    "                    params_a = {'mu': f['mus'][a], 'sigma': f['sigmas'][a]}\n",
    "                    params_c = {'mu': g['mus'][c], 'sigma': g['sigmas'][c]}\n",
    "                    sum2 += omega * np.exp((-1) * gaussian_kl(params_a, params_c))\n",
    "\n",
    "                ans += pi * np.log(sum1 / sum2)\n",
    "\n",
    "            return ans\n",
    "\n",
    "        if order == 0:\n",
    "            g = {'mus': mu_bigram, 'sigmas': sigma_bigram, 'weights': weights_bigram}\n",
    "            f = {'mus': mu_words, 'sigmas': sigma_words, 'weights': weights_words}\n",
    "        elif order == 1:\n",
    "            g = {'mus': mu_words, 'sigmas': sigma_words, 'weights': weights_words}\n",
    "            f = {'mus': mu_bigram, 'sigmas': sigma_bigram, 'weights': weights_bigram}\n",
    "        else:\n",
    "            raise\n",
    "\n",
    "        # KL(g, f)\n",
    "        return complex_kl(g, f)\n",
    "\n",
    "    def kl(self, bigram, order=0):\n",
    "        '''\n",
    "        Calculates kl-score of bigram and corresponding tilda-token.\n",
    "        :param bigram: string\n",
    "        :param order: int\n",
    "            If order is 0, then KL(bigram, tilda-token) is calculated;\n",
    "            if order is 1, then KL(tilda-token, bigram) is calculated.\n",
    "        '''\n",
    "        # Gaussian representation of `bigram`.\n",
    "        mu_bigram, sigma_bigram = self.gaus_repr(bigram)\n",
    "\n",
    "        # Gaussian representation of tilda-token.\n",
    "        tilda = bigram.replace('_', '~')\n",
    "        mu_tilda, sigma_tilda = self.gaus_repr(tilda)\n",
    "\n",
    "        if order == 0:\n",
    "            gaus1 = {'mu': mu_bigram, 'sigma': sigma_bigram}\n",
    "            gaus2 = {'mu': mu_tilda,  'sigma': sigma_tilda}\n",
    "        elif order == 1:\n",
    "            gaus1 = {'mu': mu_tilda,  'sigma': sigma_tilda}\n",
    "            gaus2 = {'mu': mu_bigram, 'sigma': sigma_bigram}\n",
    "        else:\n",
    "            raise\n",
    "\n",
    "        return gaussian_kl(gaus1, gaus2)\n",
    "\n",
    "def score_ngrams(self, func_type=0, order=0):\n",
    "    \"\"\"\n",
    "    :param func_type: int\n",
    "        Which function to use to calculate KL-divergence.\n",
    "        If type is 0, then the gaussian KL is used;\n",
    "        if type is 1, then the variational KL is used.\n",
    "    :param order: int\n",
    "        If order is 0, then KL(bigram, token) is calculated;\n",
    "        if order is 1, then KL(token, bigram) is calculated.\n",
    "    :return: List of scored ngrams\n",
    "    \"\"\"\n",
    "    res = {}\n",
    "\n",
    "    func = None\n",
    "\n",
    "    if func_type == 0:\n",
    "        func = self.kl\n",
    "    elif func_type == 1:\n",
    "        func = self.calc_variational_kl\n",
    "    else:\n",
    "        raise\n",
    "\n",
    "    for bigram in tqdm.tqdm(self.get_bigrams()):\n",
    "        res[bigram] = func(bigram, order)\n",
    "\n",
    "    return sorted(res.items(), key=lambda x: x[1], reverse=True)"
   ]
  },
  {
   "cell_type": "code",
   "execution_count": null,
   "metadata": {
    "collapsed": true
   },
   "outputs": [],
   "source": []
  },
  {
   "cell_type": "code",
   "execution_count": 146,
   "metadata": {},
   "outputs": [
    {
     "name": "stdout",
     "output_type": "stream",
     "text": [
      "2\n",
      "3\n"
     ]
    }
   ],
   "source": [
    "for i in range(2, 3 + 1):\n",
    "    print(i)"
   ]
  },
  {
   "cell_type": "code",
   "execution_count": 148,
   "metadata": {},
   "outputs": [
    {
     "ename": "TypeError",
     "evalue": "object of type 'itertools.combinations' has no len()",
     "output_type": "error",
     "traceback": [
      "\u001b[0;31m---------------------------------------------------------------------------\u001b[0m",
      "\u001b[0;31mTypeError\u001b[0m                                 Traceback (most recent call last)",
      "\u001b[0;32m<ipython-input-148-315bb9e207b2>\u001b[0m in \u001b[0;36m<module>\u001b[0;34m()\u001b[0m\n\u001b[0;32m----> 1\u001b[0;31m \u001b[0mlen\u001b[0m\u001b[0;34m(\u001b[0m\u001b[0mitertools\u001b[0m\u001b[0;34m.\u001b[0m\u001b[0mcombinations\u001b[0m\u001b[0;34m(\u001b[0m\u001b[0;34m[\u001b[0m\u001b[0;36m1\u001b[0m\u001b[0;34m,\u001b[0m\u001b[0;36m2\u001b[0m\u001b[0;34m,\u001b[0m\u001b[0;36m3\u001b[0m\u001b[0;34m]\u001b[0m\u001b[0;34m,\u001b[0m \u001b[0;36m2\u001b[0m\u001b[0;34m)\u001b[0m\u001b[0;34m)\u001b[0m\u001b[0;34m\u001b[0m\u001b[0m\n\u001b[0m",
      "\u001b[0;31mTypeError\u001b[0m: object of type 'itertools.combinations' has no len()"
     ]
    }
   ],
   "source": [
    "len(itertools.combinations([1,2,3], 2))"
   ]
  },
  {
   "cell_type": "code",
   "execution_count": null,
   "metadata": {
    "collapsed": true
   },
   "outputs": [],
   "source": []
  },
  {
   "cell_type": "code",
   "execution_count": null,
   "metadata": {
    "collapsed": true
   },
   "outputs": [],
   "source": []
  },
  {
   "cell_type": "markdown",
   "metadata": {},
   "source": [
    "#__processor___"
   ]
  },
  {
   "cell_type": "code",
   "execution_count": 378,
   "metadata": {
    "collapsed": true
   },
   "outputs": [],
   "source": [
    "from processor import Processor"
   ]
  },
  {
   "cell_type": "code",
   "execution_count": 379,
   "metadata": {},
   "outputs": [
    {
     "name": "stdout",
     "output_type": "stream",
     "text": [
      "> Done with ._get_sentences()\n",
      "> Done with ._get_dictionaries()\n",
      "> Done with ._build_ids_tuples()\n"
     ]
    }
   ],
   "source": [
    "proc = Processor(raw_data)"
   ]
  },
  {
   "cell_type": "code",
   "execution_count": 90,
   "metadata": {
    "collapsed": true
   },
   "outputs": [],
   "source": [
    "# proc.sentences"
   ]
  },
  {
   "cell_type": "code",
   "execution_count": 386,
   "metadata": {
    "collapsed": true
   },
   "outputs": [],
   "source": [
    "from word2gauss.words import Vocabulary\n",
    "vocab_gauss = Vocabulary(dictionary)"
   ]
  },
  {
   "cell_type": "code",
   "execution_count": 91,
   "metadata": {},
   "outputs": [
    {
     "data": {
      "text/plain": [
       "array([   0,  264, 1040,    0, 1022, 1041,    0,    0, 1042,    0, 1043,\n",
       "       1044, 1025,    0,    0, 1045,    0,    0,  790], dtype=uint32)"
      ]
     },
     "execution_count": 91,
     "metadata": {},
     "output_type": "execute_result"
    }
   ],
   "source": [
    "vocab_gauss.tokenize_ids('this paper demonstrates that sulfide toxicity can be modified and dehydroascorbic acid functions as an effector in this process', remove_oov=False)"
   ]
  },
  {
   "cell_type": "code",
   "execution_count": 4,
   "metadata": {
    "collapsed": true
   },
   "outputs": [],
   "source": [
    "proc.train_embeddings()"
   ]
  }
 ],
 "metadata": {
  "kernelspec": {
   "display_name": "Python 3",
   "language": "python",
   "name": "python3"
  },
  "language_info": {
   "codemirror_mode": {
    "name": "ipython",
    "version": 3
   },
   "file_extension": ".py",
   "mimetype": "text/x-python",
   "name": "python",
   "nbconvert_exporter": "python",
   "pygments_lexer": "ipython3",
   "version": "3.6.2"
  }
 },
 "nbformat": 4,
 "nbformat_minor": 1
}
